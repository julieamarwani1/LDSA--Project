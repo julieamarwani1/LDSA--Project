{
 "cells": [
  {
   "cell_type": "code",
   "execution_count": 10,
   "metadata": {},
   "outputs": [],
   "source": [
    "from pyspark.sql import SparkSession\n",
    "\n",
    "#start session \n",
    "spark_session = SparkSession\\\n",
    "        .builder\\\n",
    "        .master(\"spark://192.168.2.81:7077\") \\\n",
    "        .appName(\"glow_FL\")\\\n",
    "        .config(\"spark.dynamicAllocation.enabled\", False)\\\n",
    "        .config(\"spark.shuffle.service.enabled\", False)\\\n",
    "        .config(\"spark.dynamicAllocation.executorIdleTimeout\",\"30s\")\\\n",
    "        .config(\"spark.executor.cores\",2)\\\n",
    "        .getOrCreate()\n",
    "        \n",
    "spark_context = spark_session.sparkContext"
   ]
  },
  {
   "cell_type": "code",
   "execution_count": 21,
   "metadata": {},
   "outputs": [
    {
     "name": "stdout",
     "output_type": "stream",
     "text": [
      "+----------+-----+-----+-------------+---------------+----------------+-----+-------+---------------------+---------+-------+----------+-------+-----------+-------+-------+------------------+-----------+----------+--------------------+------------+-----------+-----------+-------+----------+---------+-----------+--------------+-------+-------+--------+-----------+-----------+--------------+--------+-----------+--------------------+\n",
      "|contigName|start|  end|        names|referenceAllele|alternateAlleles| qual|filters|splitFromMultiAllelic|INFO_MEND|INFO_AC|INFO_CIEND|INFO_NS|INFO_AFR_AF|INFO_VT|INFO_AN|INFO_MULTI_ALLELIC|INFO_SAS_AF|INFO_CIPOS|             INFO_AA|     INFO_AF|INFO_EAS_AF|INFO_AMR_AF|INFO_DP|INFO_SVLEN|INFO_MLEN|INFO_MEINFO|INFO_IMPRECISE|INFO_CS|INFO_MC|INFO_END|INFO_MSTART|INFO_EUR_AF|INFO_EX_TARGET|INFO_TSD|INFO_SVTYPE|           genotypes|\n",
      "+----------+-----+-----+-------------+---------------+----------------+-----+-------+---------------------+---------+-------+----------+-------+-----------+-------+-------+------------------+-----------+----------+--------------------+------------+-----------+-----------+-------+----------+---------+-----------+--------------+-------+-------+--------+-----------+-----------+--------------+--------+-----------+--------------------+\n",
      "|         1|10176|10177|[rs367896724]|              A|            [AC]|100.0| [PASS]|                false|     null| [2130]|      null|   2504|   [0.4909]|[INDEL]|   5008|              null|   [0.4949]|      null||||unknown(NO_COV...|  [0.425319]|   [0.3363]|   [0.3602]| 103152|      null|     null|       null|          null|   null|   null|    null|       null|   [0.4056]|          null|    null|       null|[[HG00096, true, ...|\n",
      "|         1|10234|10235|[rs540431307]|              T|            [TA]|100.0| [PASS]|                false|     null|    [6]|      null|   2504|      [0.0]|[INDEL]|   5008|              null|   [0.0051]|      null||||unknown(NO_COV...|[0.00119808]|      [0.0]|   [0.0014]|  78015|      null|     null|       null|          null|   null|   null|    null|       null|      [0.0]|          null|    null|       null|[[HG00096, true, ...|\n",
      "+----------+-----+-----+-------------+---------------+----------------+-----+-------+---------------------+---------+-------+----------+-------+-----------+-------+-------+------------------+-----------+----------+--------------------+------------+-----------+-----------+-------+----------+---------+-----------+--------------+-------+-------+--------+-----------+-----------+--------------+--------+-----------+--------------------+\n",
      "only showing top 2 rows\n",
      "\n"
     ]
    }
   ],
   "source": [
    "vcf = spark_session.read.format(\"vcf\").option(\"vcfHeader\", True).load(\"hdfs://192.168.2.81:9000//user/LDSA/ALL.chr1.phase3_shapeit2_mvncall_integrated_v5a.20130502.genotypes.vcf.gz\")\n",
    "#vcf = spark_context.textFile(\"hdfs://192.168.2.81:9000//user/LDSA/ALL.chr1.phase3_shapeit2_mvncall_integrated_v5a.20130502.genotypes.vcf.gz\")\n",
    "vcf.show(2)\n",
    "\n",
    "# display() is only available on Databricks\n",
    "# display(vcf.limit(10))"
   ]
  },
  {
   "cell_type": "code",
   "execution_count": null,
   "metadata": {},
   "outputs": [],
   "source": [
    "#remove rows that start with ## \n",
    "#vcf = vcf.filter(lambda line : not  line.startswith('t=VCF'))\\\n",
    "#    .filter(lambda line : not line.startswith('##'))\\\n",
    "#    .map(lambda line : line.split())\n",
    "#\n",
    "#vcf.take(10)"
   ]
  },
  {
   "cell_type": "code",
   "execution_count": null,
   "metadata": {},
   "outputs": [],
   "source": [
    "#create df with header \n",
    "#vcf = vcf.toDF(schema = vcf.first()) \n",
    "#vcf = vcf.filter(vcf[\"#CHROM\"]!=\"#CHROM\")\n",
    "#vcf.show()"
   ]
  },
  {
   "cell_type": "code",
   "execution_count": null,
   "metadata": {},
   "outputs": [],
   "source": [
    "from pyspark.sql.types import *\n",
    "from pyspark.sql.functions import col\n",
    "import re \n",
    "\n",
    "#Get names of sample columns (samples start with HG and NA)\n",
    "columns = vcf.schema.names\n",
    "columns = [x for x in columns if re.match(\"HG*|NA*\", x)]\n",
    "\n",
    "#extract 100 samples for test \n",
    "vcf = vcf.drop(*columns[100:len(columns)])\n",
    "\n",
    "#Make POS and QUAL integer, filter on QUAL \n",
    "vcf = vcf.withColumn(\"POS\", vcf[\"POS\"].cast(IntegerType()))\\\n",
    "        .withColumn('QUAL', vcf['QUAL'].cast(IntegerType()))\\\n",
    "        .filter(vcf['QUAL'] > 20)\n",
    "                 \n",
    "vcf.printSchema()"
   ]
  },
  {
   "cell_type": "code",
   "execution_count": null,
   "metadata": {},
   "outputs": [],
   "source": [
    "import re \n",
    "from pyspark.sql.functions import col, split\n",
    "\n",
    "#Get names of sample columns \n",
    "columns = vcf.schema.names\n",
    "columns = [x for x in columns if re.match(\"HG*|NA*\", x)]\n",
    "\n",
    "for sample in columns: \n",
    "    vcf = vcf.withColumn(sample, split(col(sample), \":\").cast(ArrayType(StringType())).alias(sample)[0])\n",
    "    \n",
    "vcf.select('POS', 'ALT', 'QUAL', 'FORMAT', 'HG00101').show()"
   ]
  },
  {
   "cell_type": "code",
   "execution_count": null,
   "metadata": {},
   "outputs": [],
   "source": [
    "from pyspark.sql.functions import concat\n",
    "import re \n",
    "\n",
    "#Concatenate the genotype columns to one column \n",
    "vcf = vcf.withColumn('GENOTYPES',concat(*columns))\n",
    "\n",
    "#drop the sample columns \n",
    "vcf = vcf.drop(*columns) \n",
    "\n",
    "vcf.show()"
   ]
  },
  {
   "cell_type": "code",
   "execution_count": null,
   "metadata": {},
   "outputs": [],
   "source": [
    "from pyspark.sql.types import StringType\n",
    "from pyspark.sql.functions import udf, struct\n",
    "import re \n",
    "\n",
    "#count number of time each allel occurs \n",
    "def count_allel(GENOTYPES, ALT):\n",
    "    #get number of allels \n",
    "    n = re.findall('[ATGC.]+', ALT)\n",
    "    res = []\n",
    "    for i in range(0,len(n)+1):\n",
    "        res.append(GENOTYPES.count(str(i)))\n",
    "    return res\n",
    "\n",
    "count_allel_udf = udf(count_allel, StringType())\n",
    "\n",
    "vcf = vcf.withColumn('ALLEL_FREQ', count_allel_udf('GENOTYPES', 'ALT'))\n",
    "vcf.show()"
   ]
  },
  {
   "cell_type": "code",
   "execution_count": null,
   "metadata": {},
   "outputs": [],
   "source": [
    "#Calculate Nd\n",
    "def Nd(ALLEL_FREQ):\n",
    "    sqrd = [x**2 for x in ALLEL_FREQ]\n",
    "    diff = [x-y for x, y in zip(sqrd, ALLEL_FREQ)]\n",
    "    return 1-(sum(diff)/((sum(ALLEL_FREQ)**2)-sum(ALLEL_FREQ)))\n",
    "    \n",
    "Nd_udf = udf(Nd, StringType())\n",
    "\n",
    "vcf = vcf.withColumn('Nd', Nd_udf('ALLEL_FREQ'))\n",
    "vcf.select('Nd').show()  "
   ]
  },
  {
   "cell_type": "code",
   "execution_count": null,
   "metadata": {},
   "outputs": [],
   "source": [
    "from pyspark.ml.feature import Bucketizer\n",
    "\n",
    "#define the splits (use min max values from POS argument...) \n",
    "splits = list(range(0, 57227415, 100000))\n",
    "bucketizer = Bucketizer(splits=splits, inputCol=\"POS\", outputCol=\"POS_BUCKET\")\n",
    "\n",
    "#Transform original data into bucket index\n",
    "vcf = bucketizer.transform(vcf)\n",
    "\n",
    "vcf.select('POS_BUCKET', 'POS', 'Nd').show()"
   ]
  },
  {
   "cell_type": "code",
   "execution_count": null,
   "metadata": {},
   "outputs": [],
   "source": [
    "from pyspark.sql.functions import avg \n",
    "\n",
    "vcf = vcf.withColumn('Nd', vcf['Nd'].cast(StringType()))\n",
    "\n",
    "#Group by 100000 bp interval and calculate per base nucleotide diversity \n",
    "vcf_Nd = vcf.groupBy('POS_BUCKET')\\\n",
    "            .agg(avg(col(\"Nd\")))\\\n",
    "            .orderBy('POS_BUCKET')\n",
    "\n",
    "#Save data to hdfs \n",
    "vcf_Nd.write.format('csv').option('header',True).mode('overwrite').option('sep',',').save('/user/LDSA/output.csv')\n",
    "        \n",
    "vcf_Nd.show()\n"
   ]
  },
  {
   "cell_type": "code",
   "execution_count": null,
   "metadata": {},
   "outputs": [],
   "source": [
    "#Collect values for plotting \n",
    "y = vcf_Nd.select('AVG(Nd)').collect()\n",
    "x = vcf_Nd.select('POS_BUCKET').collect()"
   ]
  },
  {
   "cell_type": "code",
   "execution_count": null,
   "metadata": {},
   "outputs": [],
   "source": [
    "#plot\n",
    "import matplotlib.pyplot as plt\n",
    "\n",
    "plt.plot(x, y)\n",
    "plt.ylabel('Nucleotide Diversity')\n",
    "plt.xlabel('bp')\n",
    "plt.title('Y Chromosome')\n",
    "plt.legend('', loc='upper left')\n",
    "\n",
    "plt.show()"
   ]
  },
  {
   "cell_type": "code",
   "execution_count": 9,
   "metadata": {},
   "outputs": [],
   "source": [
    "spark_context.stop()"
   ]
  },
  {
   "cell_type": "code",
   "execution_count": null,
   "metadata": {},
   "outputs": [],
   "source": []
  }
 ],
 "metadata": {
  "kernelspec": {
   "display_name": "Python 3",
   "language": "python",
   "name": "python3"
  },
  "language_info": {
   "codemirror_mode": {
    "name": "ipython",
    "version": 3
   },
   "file_extension": ".py",
   "mimetype": "text/x-python",
   "name": "python",
   "nbconvert_exporter": "python",
   "pygments_lexer": "ipython3",
   "version": "3.6.9"
  }
 },
 "nbformat": 4,
 "nbformat_minor": 2
}
