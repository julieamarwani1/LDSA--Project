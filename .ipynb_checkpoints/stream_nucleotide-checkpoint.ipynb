{
 "cells": [
  {
   "cell_type": "code",
   "execution_count": 2,
   "metadata": {},
   "outputs": [
    {
     "ename": "TypeError",
     "evalue": "condition should be string or Column",
     "output_type": "error",
     "traceback": [
      "\u001b[0;31m---------------------------------------------------------------------------\u001b[0m",
      "\u001b[0;31mTypeError\u001b[0m                                 Traceback (most recent call last)",
      "\u001b[0;32m<ipython-input-2-def299184c75>\u001b[0m in \u001b[0;36m<module>\u001b[0;34m()\u001b[0m\n\u001b[1;32m     14\u001b[0m \u001b[0mdf\u001b[0m \u001b[0;34m=\u001b[0m \u001b[0mspark_session\u001b[0m\u001b[0;34m.\u001b[0m\u001b[0mread\u001b[0m\u001b[0;34m.\u001b[0m\u001b[0mformat\u001b[0m\u001b[0;34m(\u001b[0m\u001b[0;34m'vcf'\u001b[0m\u001b[0;34m)\u001b[0m\u001b[0;34m.\u001b[0m\u001b[0mload\u001b[0m\u001b[0;34m(\u001b[0m\u001b[0;34m\"hdfs://192.168.2.81:9000//user/LDSA/ALL.chr1.phase3_shapeit2_mvncall_integrated_v5a.20130502.genotypes.vcf.gz\"\u001b[0m\u001b[0;34m)\u001b[0m\u001b[0;34m\u001b[0m\u001b[0;34m\u001b[0m\u001b[0m\n\u001b[1;32m     15\u001b[0m \u001b[0;34m\u001b[0m\u001b[0m\n\u001b[0;32m---> 16\u001b[0;31m \u001b[0mdf\u001b[0m \u001b[0;34m=\u001b[0m \u001b[0mdf\u001b[0m\u001b[0;34m.\u001b[0m\u001b[0mfilter\u001b[0m\u001b[0;34m(\u001b[0m\u001b[0;32mlambda\u001b[0m \u001b[0mline\u001b[0m \u001b[0;34m:\u001b[0m \u001b[0;32mnot\u001b[0m  \u001b[0mline\u001b[0m\u001b[0;34m.\u001b[0m\u001b[0mstartswith\u001b[0m\u001b[0;34m(\u001b[0m\u001b[0;34m't=VCF'\u001b[0m\u001b[0;34m)\u001b[0m\u001b[0;34m)\u001b[0m    \u001b[0;34m.\u001b[0m\u001b[0mfilter\u001b[0m\u001b[0;34m(\u001b[0m\u001b[0;32mlambda\u001b[0m \u001b[0mline\u001b[0m \u001b[0;34m:\u001b[0m \u001b[0;32mnot\u001b[0m \u001b[0mline\u001b[0m\u001b[0;34m.\u001b[0m\u001b[0mstartswith\u001b[0m\u001b[0;34m(\u001b[0m\u001b[0;34m'##'\u001b[0m\u001b[0;34m)\u001b[0m\u001b[0;34m)\u001b[0m    \u001b[0;34m.\u001b[0m\u001b[0mmap\u001b[0m\u001b[0;34m(\u001b[0m\u001b[0;32mlambda\u001b[0m \u001b[0mline\u001b[0m \u001b[0;34m:\u001b[0m \u001b[0mline\u001b[0m\u001b[0;34m.\u001b[0m\u001b[0msplit\u001b[0m\u001b[0;34m(\u001b[0m\u001b[0;34m)\u001b[0m\u001b[0;34m)\u001b[0m\u001b[0;34m\u001b[0m\u001b[0;34m\u001b[0m\u001b[0m\n\u001b[0m\u001b[1;32m     17\u001b[0m \u001b[0;34m\u001b[0m\u001b[0m\n\u001b[1;32m     18\u001b[0m \u001b[0mdf\u001b[0m\u001b[0;34m.\u001b[0m\u001b[0mshow\u001b[0m\u001b[0;34m(\u001b[0m\u001b[0;34m)\u001b[0m\u001b[0;34m\u001b[0m\u001b[0;34m\u001b[0m\u001b[0m\n",
      "\u001b[0;32m/usr/local/spark/python/pyspark/sql/dataframe.py\u001b[0m in \u001b[0;36mfilter\u001b[0;34m(self, condition)\u001b[0m\n\u001b[1;32m   1364\u001b[0m             \u001b[0mjdf\u001b[0m \u001b[0;34m=\u001b[0m \u001b[0mself\u001b[0m\u001b[0;34m.\u001b[0m\u001b[0m_jdf\u001b[0m\u001b[0;34m.\u001b[0m\u001b[0mfilter\u001b[0m\u001b[0;34m(\u001b[0m\u001b[0mcondition\u001b[0m\u001b[0;34m.\u001b[0m\u001b[0m_jc\u001b[0m\u001b[0;34m)\u001b[0m\u001b[0;34m\u001b[0m\u001b[0;34m\u001b[0m\u001b[0m\n\u001b[1;32m   1365\u001b[0m         \u001b[0;32melse\u001b[0m\u001b[0;34m:\u001b[0m\u001b[0;34m\u001b[0m\u001b[0;34m\u001b[0m\u001b[0m\n\u001b[0;32m-> 1366\u001b[0;31m             \u001b[0;32mraise\u001b[0m \u001b[0mTypeError\u001b[0m\u001b[0;34m(\u001b[0m\u001b[0;34m\"condition should be string or Column\"\u001b[0m\u001b[0;34m)\u001b[0m\u001b[0;34m\u001b[0m\u001b[0;34m\u001b[0m\u001b[0m\n\u001b[0m\u001b[1;32m   1367\u001b[0m         \u001b[0;32mreturn\u001b[0m \u001b[0mDataFrame\u001b[0m\u001b[0;34m(\u001b[0m\u001b[0mjdf\u001b[0m\u001b[0;34m,\u001b[0m \u001b[0mself\u001b[0m\u001b[0;34m.\u001b[0m\u001b[0msql_ctx\u001b[0m\u001b[0;34m)\u001b[0m\u001b[0;34m\u001b[0m\u001b[0;34m\u001b[0m\u001b[0m\n\u001b[1;32m   1368\u001b[0m \u001b[0;34m\u001b[0m\u001b[0m\n",
      "\u001b[0;31mTypeError\u001b[0m: condition should be string or Column"
     ]
    }
   ],
   "source": [
    "from pyspark.sql import SparkSession\n",
    "from pyspark.sql.types import *\n",
    "from pyspark.sql.functions import col, split, concat, udf, struct, avg\n",
    "import re\n",
    "from pyspark.ml.feature import Bucketizer\n",
    "from pyspark.sql.types import StringType\n",
    "import glow\n",
    "\n",
    "\n",
    "#start session \n",
    "spark_session = SparkSession\\\n",
    "        .builder\\\n",
    "        .master(\"spark://192.168.2.81:7077\") \\\n",
    "        .appName(\"nucleotide_div\")\\\n",
    "        .config(\"spark.dynamicAllocation.enabled\", False)\\\n",
    "        .config(\"spark.shuffle.service.enabled\", False)\\\n",
    "        .config(\"spark.dynamicAllocation.executorIdleTimeout\",\"30s\")\\\n",
    "        .config(\"spark.executor.cores\",2)\\\n",
    "        .getOrCreate()\n",
    "\n",
    "glow.register(spark)\n",
    "df = spark_session.read.format('vcf').load(\"hdfs://192.168.2.81:9000//user/LDSA/ALL.chr1.phase3_shapeit2_mvncall_integrated_v5a.20130502.genotypes.vcf.gz\")\n",
    "\n",
    "\n",
    "#Get names of sample columns (samples start with HG and NA)\n",
    "columns = df.schema.names\n",
    "columns = [x for x in columns if re.match(\"HG*|NA*\", x)]\n",
    "\n",
    "#extract 100 samples for test \n",
    "df = df.drop(*columns[100:len(columns)])\n",
    "\n",
    "df.show()"
   ]
  },
  {
   "cell_type": "code",
   "execution_count": 4,
   "metadata": {},
   "outputs": [
    {
     "ename": "NameError",
     "evalue": "name 'spark_context' is not defined",
     "output_type": "error",
     "traceback": [
      "\u001b[0;31m---------------------------------------------------------------------------\u001b[0m",
      "\u001b[0;31mNameError\u001b[0m                                 Traceback (most recent call last)",
      "\u001b[0;32m<ipython-input-4-25d1d8b993b0>\u001b[0m in \u001b[0;36m<module>\u001b[0;34m()\u001b[0m\n\u001b[0;32m----> 1\u001b[0;31m \u001b[0mspark_context\u001b[0m\u001b[0;34m.\u001b[0m\u001b[0mstop\u001b[0m\u001b[0;34m(\u001b[0m\u001b[0;34m)\u001b[0m\u001b[0;34m\u001b[0m\u001b[0;34m\u001b[0m\u001b[0m\n\u001b[0m",
      "\u001b[0;31mNameError\u001b[0m: name 'spark_context' is not defined"
     ]
    }
   ],
   "source": [
    "spark_context.stop()"
   ]
  },
  {
   "cell_type": "code",
   "execution_count": null,
   "metadata": {},
   "outputs": [],
   "source": [
    "from pyspark.sql import SparkSession\n",
    "from pyspark.sql.types import *\n",
    "from pyspark.sql.functions import col, split, concat, udf, struct, avg\n",
    "import re\n",
    "from pyspark.ml.feature import Bucketizer\n",
    "from pyspark.sql.types import StringType\n",
    "\n",
    "#start session \n",
    "spark_session = SparkSession\\\n",
    "        .builder\\\n",
    "        .master(\"spark://192.168.2.81:7077\") \\\n",
    "        .appName(\"nucleotide_div\")\\\n",
    "        .config(\"spark.dynamicAllocation.enabled\", False)\\\n",
    "        .config(\"spark.shuffle.service.enabled\", False)\\\n",
    "        .config(\"spark.dynamicAllocation.executorIdleTimeout\",\"30s\")\\\n",
    "        .config(\"spark.executor.cores\",2)\\\n",
    "        .getOrCreate()\n",
    "        \n",
    "spark_context = spark_session.sparkContext\n",
    "\n",
    "vcf = spark_context.textFile(\"hdfs://192.168.2.81:9000//user/LDSA/ALL.chr1.phase3_shapeit2_mvncall_integrated_v5a.20130502.genotypes.vcf.gz\")\n",
    "\n",
    "\n",
    "vcf = vcf.filter(lambda line : not  line.startswith('t=VCF'))\\\n",
    "    .filter(lambda line : not line.startswith('##'))\\\n",
    "    .map(lambda line : line.split())\n",
    "    \n",
    "#create df with header \n",
    "vcf = vcf.toDF(schema = vcf.first()) \n",
    "vcf = vcf.filter(vcf[\"#CHROM\"]!=\"#CHROM\")\n",
    "\n",
    "#Get names of sample columns (samples start with HG and NA)\n",
    "columns = vcf.schema.names\n",
    "columns = [x for x in columns if re.match(\"HG*|NA*\", x)]\n",
    "\n",
    "#extract 100 samples for test \n",
    "vcf = vcf.drop(*columns[100:len(columns)])\n",
    "\n",
    "#Make POS and QUAL integer, filter on QUAL \n",
    "vcf = vcf.withColumn(\"POS\", vcf[\"POS\"].cast(IntegerType()))\\\n",
    "        .withColumn('QUAL', vcf['QUAL'].cast(IntegerType()))\\\n",
    "        .filter(vcf['QUAL'] > 20)\n",
    "        \n",
    "#Get names of sample columns \n",
    "columns = vcf.schema.names\n",
    "columns = [x for x in columns if re.match(\"HG*|NA*\", x)]\n",
    "\n",
    "for sample in columns: \n",
    "    vcf = vcf.withColumn(sample, split(col(sample), \":\").cast(ArrayType(StringType())).alias(sample)[0])\n",
    "\n",
    "#Concatenate the genotype columns to one column \n",
    "vcf = vcf.withColumn('GENOTYPES',concat(*columns))\n",
    "\n",
    "#drop the sample columns \n",
    "vcf = vcf.drop(*columns) \n",
    "\n",
    "#count number of time each allel occurs \n",
    "def count_allel(GENOTYPES, ALT):\n",
    "    #get number of allels \n",
    "    n = re.findall('[ATGC.]+', ALT)\n",
    "    res = []\n",
    "    for i in range(0,len(n)+1):\n",
    "        res.append(GENOTYPES.count(str(i)))\n",
    "    return res\n",
    "\n",
    "count_allel_udf = udf(count_allel, StringType())\n",
    "\n",
    "vcf = vcf.withColumn('ALLEL_FREQ', count_allel_udf('GENOTYPES', 'ALT'))\n",
    "\n",
    "#Calculate Nd\n",
    "def Nd(ALLEL_FREQ):\n",
    "    sqrd = [x**2 for x in ALLEL_FREQ]\n",
    "    diff = [x-y for x, y in zip(sqrd, ALLEL_FREQ)]\n",
    "    return 1-(sum(diff)/((sum(ALLEL_FREQ)**2)-sum(ALLEL_FREQ)))\n",
    "    \n",
    "Nd_udf = udf(Nd, StringType())\n",
    "\n",
    "vcf = vcf.withColumn('Nd', Nd_udf('ALLEL_FREQ'))\n",
    "\n",
    "#define the splits (use min max values from POS argument...) \n",
    "splits = list(range(0, 57227415, 1000000))\n",
    "bucketizer = Bucketizer(splits=splits, inputCol=\"POS\", outputCol=\"POS_BUCKET\")\n",
    "\n",
    "#Transform original data into bucket index\n",
    "vcf = bucketizer.transform(vcf)\n",
    "\n",
    "vcf = vcf.withColumn('Nd', vcf['Nd'].cast(StringType()))\n",
    "\n",
    "#Group by 100000 bp interval and calculate per base nucleotide diversity \n",
    "vcf_Nd = vcf.groupBy('POS_BUCKET')\\\n",
    "            .agg(avg(col(\"Nd\")))\\\n",
    "            .orderBy('POS_BUCKET')\n",
    "\n",
    "vcf_Nd.select('POS_BUCKET').show()       \n",
    "#Save data to hdfs \n",
    "#vcf.write.format('csv').option('header',True).mode('overwrite').option('sep',',').save('/user/LDSA/output.csv')\n",
    "spark_context.stop()"
   ]
  },
  {
   "cell_type": "code",
   "execution_count": null,
   "metadata": {},
   "outputs": [],
   "source": []
  },
  {
   "cell_type": "code",
   "execution_count": null,
   "metadata": {},
   "outputs": [],
   "source": []
  },
  {
   "cell_type": "code",
   "execution_count": 21,
   "metadata": {},
   "outputs": [],
   "source": []
  },
  {
   "cell_type": "code",
   "execution_count": null,
   "metadata": {},
   "outputs": [],
   "source": []
  },
  {
   "cell_type": "code",
   "execution_count": null,
   "metadata": {},
   "outputs": [],
   "source": []
  },
  {
   "cell_type": "code",
   "execution_count": null,
   "metadata": {},
   "outputs": [],
   "source": []
  },
  {
   "cell_type": "code",
   "execution_count": null,
   "metadata": {},
   "outputs": [],
   "source": []
  },
  {
   "cell_type": "code",
   "execution_count": null,
   "metadata": {},
   "outputs": [],
   "source": []
  }
 ],
 "metadata": {
  "kernelspec": {
   "display_name": "Python 3",
   "language": "python",
   "name": "python3"
  },
  "language_info": {
   "codemirror_mode": {
    "name": "ipython",
    "version": 3
   },
   "file_extension": ".py",
   "mimetype": "text/x-python",
   "name": "python",
   "nbconvert_exporter": "python",
   "pygments_lexer": "ipython3",
   "version": "3.6.9"
  }
 },
 "nbformat": 4,
 "nbformat_minor": 2
}
