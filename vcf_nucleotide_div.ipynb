{
 "cells": [
  {
   "cell_type": "code",
   "execution_count": 1,
   "metadata": {},
   "outputs": [],
   "source": [
    "from pyspark.sql import SparkSession\n",
    "\n",
    "#start session \n",
    "spark_session = SparkSession\\\n",
    "        .builder\\\n",
    "        .master(\"spark://192.168.2.231:7077\")\\\n",
    "        .appName(\"nucleotide_div\")\\\n",
    "        .config(\"spark.dynamicAllocation.enabled\", False)\\\n",
    "        .config(\"spark.shuffle.service.enabled\", False)\\\n",
    "        .config(\"spark.dynamicAllocation.executorIdleTimeout\",\"30s\")\\\n",
    "        .config(\"spark.executor.cores\",2)\\\n",
    "        .getOrCreate()\n",
    "        \n",
    "spark_context = spark_session.sparkContext"
   ]
  },
  {
   "cell_type": "code",
   "execution_count": 2,
   "metadata": {},
   "outputs": [
    {
     "data": {
      "text/plain": [
       "8"
      ]
     },
     "execution_count": 2,
     "metadata": {},
     "output_type": "execute_result"
    }
   ],
   "source": [
    "vcf = spark_context.textFile(\"hdfs://192.168.2.231:9000//user/LDSA/ALL.chr22.phase3_shapeit2_mvncall_integrated_v5a.20130502.genotypes.vcf.gz\")\n",
    "vcf = vcf.repartition(16)\n",
    "vcf.getNumPartitions()\n",
    "#vcf.take(10)"
   ]
  },
  {
   "cell_type": "code",
   "execution_count": 6,
   "metadata": {},
   "outputs": [],
   "source": [
    "#get header for dataframe \n",
    "header = vcf.filter(lambda line : line.startswith('#CHROM'))\\\n",
    "            .map(lambda line : line.split())\\\n",
    "            .collect()\n"
   ]
  },
  {
   "cell_type": "code",
   "execution_count": 7,
   "metadata": {},
   "outputs": [],
   "source": [
    "#remove rows that start with ## \n",
    "vcf = vcf.filter(lambda line : not  line.startswith('t=VCF'))\\\n",
    "         .filter(lambda line : not line.startswith('#'))\\\n",
    "         .map(lambda line : line.split())\n",
    "#vcf.take(10)"
   ]
  },
  {
   "cell_type": "code",
   "execution_count": 8,
   "metadata": {},
   "outputs": [],
   "source": [
    "#create df with header \n",
    "#vcf.show()\n",
    "vcf = vcf.toDF(schema = header[0]) \n",
    "#vcf.printSchema()"
   ]
  },
  {
   "cell_type": "code",
   "execution_count": 9,
   "metadata": {
    "scrolled": false
   },
   "outputs": [],
   "source": [
    "from pyspark.sql.types import *\n",
    "from pyspark.sql.functions import col\n",
    "import re \n",
    "\n",
    "#Get names of sample columns (samples start with HG and NA)\n",
    "columns = vcf.schema.names\n",
    "columns = [x for x in columns if re.match(\"HG*|NA*\", x)]\n",
    "\n",
    "#extract 100 samples for test \n",
    "vcf = vcf.drop(*columns[100:len(columns)])"
   ]
  },
  {
   "cell_type": "code",
   "execution_count": 10,
   "metadata": {},
   "outputs": [],
   "source": [
    "#Split dataframe in half \n",
    "#vcf = vcf.sample(False, 0.5, 123)\n",
    "#vcf.show()"
   ]
  },
  {
   "cell_type": "code",
   "execution_count": 11,
   "metadata": {},
   "outputs": [],
   "source": [
    "#Double dataframe \n",
    "#vcf = vcf.union(vcf)"
   ]
  },
  {
   "cell_type": "code",
   "execution_count": 12,
   "metadata": {},
   "outputs": [
    {
     "name": "stdout",
     "output_type": "stream",
     "text": [
      "Start = 20:10:24\n"
     ]
    }
   ],
   "source": [
    "from datetime import datetime\n",
    "\n",
    "start = datetime.now()\n",
    "\n",
    "start_time = start.strftime(\"%H:%M:%S\")\n",
    "print(\"Start =\", start_time)"
   ]
  },
  {
   "cell_type": "code",
   "execution_count": 13,
   "metadata": {},
   "outputs": [],
   "source": [
    "#Make POS and QUAL integer, filter on QUAL \n",
    "vcf = vcf.withColumn(\"POS\", vcf[\"POS\"].cast(IntegerType()))\\\n",
    "        .withColumn('QUAL', vcf['QUAL'].cast(IntegerType()))\\\n",
    "        .filter(vcf['QUAL'] > 20)\n",
    "                 \n",
    "#vcf.printSchema()"
   ]
  },
  {
   "cell_type": "code",
   "execution_count": 14,
   "metadata": {},
   "outputs": [],
   "source": [
    "import re \n",
    "from pyspark.sql.functions import col, split\n",
    "\n",
    "#Get names of sample columns \n",
    "columns = vcf.schema.names\n",
    "columns = [x for x in columns if re.match(\"HG*|NA*\", x)]\n",
    "\n",
    "for sample in columns: \n",
    "    vcf = vcf.withColumn(sample, split(col(sample), \":\").cast(ArrayType(StringType())).alias(sample)[0])\n",
    "    \n",
    "#vcf.select('POS', 'ALT', 'QUAL', 'FORMAT', 'HG00101').show()"
   ]
  },
  {
   "cell_type": "code",
   "execution_count": 15,
   "metadata": {},
   "outputs": [],
   "source": [
    "from pyspark.sql.functions import concat\n",
    "import re \n",
    "\n",
    "#Concatenate the genotype columns to one column \n",
    "vcf = vcf.withColumn('GENOTYPES',concat(*columns))\n",
    "\n",
    "#drop the sample columns \n",
    "vcf = vcf.drop(*columns) \n",
    "\n",
    "#vcf.show()"
   ]
  },
  {
   "cell_type": "code",
   "execution_count": 16,
   "metadata": {},
   "outputs": [],
   "source": [
    "from pyspark.sql.types import StringType\n",
    "from pyspark.sql.functions import udf, struct\n",
    "import re \n",
    "\n",
    "#count number of time each allel occurs \n",
    "def count_allel(GENOTYPES, ALT):\n",
    "    #get number of allels \n",
    "    n = re.findall('[ATGC.]+', ALT)\n",
    "    res = []\n",
    "    for i in range(0,len(n)+1):\n",
    "        res.append(GENOTYPES.count(str(i)))\n",
    "    return res\n",
    "\n",
    "count_allel_udf = udf(count_allel, StringType())\n",
    "\n",
    "vcf = vcf.withColumn('ALLEL_FREQ', count_allel_udf('GENOTYPES', 'ALT'))\n",
    "\n",
    "#vcf.show()"
   ]
  },
  {
   "cell_type": "code",
   "execution_count": 17,
   "metadata": {},
   "outputs": [],
   "source": [
    "#Calculate Nd\n",
    "def Nd(ALLEL_FREQ):\n",
    "    sqrd = [x**2 for x in ALLEL_FREQ]\n",
    "    diff = [x-y for x, y in zip(sqrd, ALLEL_FREQ)]\n",
    "    return 1-(sum(diff)/((sum(ALLEL_FREQ)**2)-sum(ALLEL_FREQ)))\n",
    "    \n",
    "Nd_udf = udf(Nd, StringType())\n",
    "\n",
    "vcf = vcf.withColumn('Nd', Nd_udf('ALLEL_FREQ'))\n",
    "\n",
    "#vcf.select('Nd').show()  "
   ]
  },
  {
   "cell_type": "code",
   "execution_count": 18,
   "metadata": {},
   "outputs": [],
   "source": [
    "from pyspark.ml.feature import Bucketizer\n",
    "\n",
    "#define the splits (use min max values from POS argument...) \n",
    "splits = list(range(0, 55304566, 500000))\n",
    "bucketizer = Bucketizer(splits=splits, inputCol=\"POS\", outputCol=\"POS_BUCKET\")\n",
    "\n",
    "#Transform original data into bucket index\n",
    "vcf = bucketizer.transform(vcf)\n",
    "\n",
    "#vcf.select('POS_BUCKET', 'POS', 'Nd').show()"
   ]
  },
  {
   "cell_type": "code",
   "execution_count": null,
   "metadata": {},
   "outputs": [],
   "source": [
    "from pyspark.sql.functions import avg \n",
    "\n",
    "#Group by 100000 bp interval and calculate per base nucleotide diversity \n",
    "vcf_Nd = vcf.groupBy('POS_BUCKET')\\\n",
    "            .agg(avg(col(\"Nd\")))\\\n",
    "            .orderBy('POS_BUCKET')\n",
    "\n",
    "vcf_Nd.show()"
   ]
  },
  {
   "cell_type": "code",
   "execution_count": null,
   "metadata": {},
   "outputs": [],
   "source": [
    "stop = datetime.now()\n",
    "\n",
    "current_time = stop.strftime(\"%H:%M:%S\")\n",
    "print(\"End =\", current_time)\n",
    "print(\"total:\", stop-start)"
   ]
  },
  {
   "cell_type": "code",
   "execution_count": null,
   "metadata": {},
   "outputs": [],
   "source": [
    "#Collect values for plotting \n",
    "#y = vcf_Nd.select('AVG(Nd)').collect()\n",
    "#x = vcf_Nd.select('POS_BUCKET').collect()"
   ]
  },
  {
   "cell_type": "code",
   "execution_count": null,
   "metadata": {},
   "outputs": [],
   "source": [
    "#plot\n",
    "#import matplotlib.pyplot as plt\n",
    "\n",
    "#plt.plot(x, y)\n",
    "#plt.ylabel('Nucleotide Diversity')\n",
    "#plt.xlabel('bp')\n",
    "#plt.title('Y Chromosome')\n",
    "#plt.legend('', loc='upper left')\n",
    "\n",
    "#plt.show()"
   ]
  },
  {
   "cell_type": "code",
   "execution_count": null,
   "metadata": {},
   "outputs": [],
   "source": [
    "#vcf_Nd.write.format('csv').option('header',True).mode('overwrite').option('delimiter', ',').save('/user/LDSA/CHR22_out')"
   ]
  },
  {
   "cell_type": "code",
   "execution_count": null,
   "metadata": {},
   "outputs": [],
   "source": [
    "#vcf.getNumPartitions()\n",
    "#spark_context.stop()\n"
   ]
  },
  {
   "cell_type": "code",
   "execution_count": null,
   "metadata": {},
   "outputs": [],
   "source": [
    "spark_context.stop()"
   ]
  },
  {
   "cell_type": "code",
   "execution_count": null,
   "metadata": {},
   "outputs": [],
   "source": [
    "#vcf.take(10)"
   ]
  }
 ],
 "metadata": {
  "kernelspec": {
   "display_name": "Python 3",
   "language": "python",
   "name": "python3"
  },
  "language_info": {
   "codemirror_mode": {
    "name": "ipython",
    "version": 3
   },
   "file_extension": ".py",
   "mimetype": "text/x-python",
   "name": "python",
   "nbconvert_exporter": "python",
   "pygments_lexer": "ipython3",
   "version": "3.6.9"
  }
 },
 "nbformat": 4,
 "nbformat_minor": 2
}
