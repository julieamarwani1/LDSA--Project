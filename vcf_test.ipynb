{
 "cells": [
  {
   "cell_type": "code",
   "execution_count": 2,
   "metadata": {},
   "outputs": [],
   "source": [
    "from pyspark.sql import SparkSession\n",
    "\n",
    "#start session \n",
    "spark_session = SparkSession.builder.appName(\"VCF_test\")\\\n",
    ".config (\"spark.sql.shuffle.partitions\", \"50\")\\\n",
    ".config(\"spark.driver.maxResultSize\",\"5g\")\\\n",
    ".config (\"spark.sql.execution.arrow.enabled\", \"true\")\\\n",
    ".getOrCreate()\n",
    "\n",
    "spark_context = spark_session.sparkContext"
   ]
  },
  {
   "cell_type": "code",
   "execution_count": 3,
   "metadata": {},
   "outputs": [
    {
     "data": {
      "text/plain": [
       "['t=VCFv4.0',\n",
       " '##fileDate=20090805',\n",
       " '##source=myImputationProgramV3.1',\n",
       " '##reference=1000GenomesPilot-NCBI36',\n",
       " '##phasing=partial',\n",
       " '##INFO=<ID=NS,Number=1,Type=Integer,Description=\"Number of Samples With Data\">',\n",
       " '##INFO=<ID=DP,Number=1,Type=Integer,Description=\"Total Depth\">',\n",
       " '##INFO=<ID=AF,Number=.,Type=Float,Description=\"Allele Frequency\">',\n",
       " '##INFO=<ID=AA,Number=1,Type=String,Description=\"Ancestral Allele\">',\n",
       " '##INFO=<ID=DB,Number=0,Type=Flag,Description=\"dbSNP membership, build 129\">',\n",
       " '##INFO=<ID=H2,Number=0,Type=Flag,Description=\"HapMap2 membership\">',\n",
       " '##FILTER=<ID=q10,Description=\"Quality below 10\">',\n",
       " '##FILTER=<ID=s50,Description=\"Less than 50% of samples have data\">',\n",
       " '##FORMAT=<ID=GT,Number=1,Type=String,Description=\"Genotype\">',\n",
       " '##FORMAT=<ID=GQ,Number=1,Type=Integer,Description=\"Genotype Quality\">',\n",
       " '##FORMAT=<ID=DP,Number=1,Type=Integer,Description=\"Read Depth\">',\n",
       " '##FORMAT=<ID=HQ,Number=2,Type=Integer,Description=\"Haplotype Quality\">',\n",
       " '#CHROM POS     ID        REF ALT    QUAL FILTER INFO                              FORMAT      NA00001        NA00002        NA00003',\n",
       " '20     14370   rs6054257 G      A       29   PASS   NS=3;DP=14;AF=0.5;DB;H2           GT:GQ:DP:HQ 0|0:48:1:51,51 1|0:48:8:51,51 1/1:43:5:.,.',\n",
       " '20     17330   .         T      A       3    q10    NS=3;DP=11;AF=0.017               GT:GQ:DP:HQ 0|0:49:3:58,50 0|1:3:5:65,3   0/0:41:3']"
      ]
     },
     "execution_count": 3,
     "metadata": {},
     "output_type": "execute_result"
    }
   ],
   "source": [
    "vcf = spark_context.textFile(\"File:///home/ubuntu/test.vcf\")\n",
    "vcf.take(20)"
   ]
  },
  {
   "cell_type": "code",
   "execution_count": 4,
   "metadata": {},
   "outputs": [
    {
     "data": {
      "text/plain": [
       "[['#CHROM',\n",
       "  'POS',\n",
       "  'ID',\n",
       "  'REF',\n",
       "  'ALT',\n",
       "  'QUAL',\n",
       "  'FILTER',\n",
       "  'INFO',\n",
       "  'FORMAT',\n",
       "  'NA00001',\n",
       "  'NA00002',\n",
       "  'NA00003'],\n",
       " ['20',\n",
       "  '14370',\n",
       "  'rs6054257',\n",
       "  'G',\n",
       "  'A',\n",
       "  '29',\n",
       "  'PASS',\n",
       "  'NS=3;DP=14;AF=0.5;DB;H2',\n",
       "  'GT:GQ:DP:HQ',\n",
       "  '0|0:48:1:51,51',\n",
       "  '1|0:48:8:51,51',\n",
       "  '1/1:43:5:.,.'],\n",
       " ['20',\n",
       "  '17330',\n",
       "  '.',\n",
       "  'T',\n",
       "  'A',\n",
       "  '3',\n",
       "  'q10',\n",
       "  'NS=3;DP=11;AF=0.017',\n",
       "  'GT:GQ:DP:HQ',\n",
       "  '0|0:49:3:58,50',\n",
       "  '0|1:3:5:65,3',\n",
       "  '0/0:41:3'],\n",
       " ['20',\n",
       "  '1110696',\n",
       "  'rs6040355',\n",
       "  'A',\n",
       "  'G,T',\n",
       "  '67',\n",
       "  'PASS',\n",
       "  'NS=2;DP=10;AF=0.333,0.667;AA=T;DB',\n",
       "  'GT:GQ:DP:HQ',\n",
       "  '1|2:21:6:23,27',\n",
       "  '2|1:2:0:18,2',\n",
       "  '2/2:35:4'],\n",
       " ['20',\n",
       "  '1230237',\n",
       "  '.',\n",
       "  'T',\n",
       "  '.',\n",
       "  '47',\n",
       "  'PASS',\n",
       "  'NS=3;DP=13;AA=T',\n",
       "  'GT:GQ:DP:HQ',\n",
       "  '0|0:54:7:56,60',\n",
       "  '0|0:48:4:51,51',\n",
       "  '0/0:61:2'],\n",
       " ['20',\n",
       "  '1234567',\n",
       "  'microsat1',\n",
       "  'GTCT',\n",
       "  'G,GTACT',\n",
       "  '50',\n",
       "  'PASS',\n",
       "  'NS=3;DP=9;AA=G',\n",
       "  'GT:GQ:DP',\n",
       "  '0/1:35:4',\n",
       "  '0/2:17:2',\n",
       "  '1/1:40:3']]"
      ]
     },
     "execution_count": 4,
     "metadata": {},
     "output_type": "execute_result"
    }
   ],
   "source": [
    "#remove rows that start with ## \n",
    "vcf = vcf.filter(lambda line : not  line.startswith('t=VCF'))\\\n",
    "    .filter(lambda line : not line.startswith('##'))\\\n",
    "    .map(lambda line : line.split())\n",
    "vcf.take(20)"
   ]
  },
  {
   "cell_type": "code",
   "execution_count": 5,
   "metadata": {},
   "outputs": [
    {
     "name": "stdout",
     "output_type": "stream",
     "text": [
      "+------+-------+---------+----+-------+----+------+--------------------+-----------+--------------+--------------+------------+\n",
      "|#CHROM|    POS|       ID| REF|    ALT|QUAL|FILTER|                INFO|     FORMAT|       NA00001|       NA00002|     NA00003|\n",
      "+------+-------+---------+----+-------+----+------+--------------------+-----------+--------------+--------------+------------+\n",
      "|    20|  14370|rs6054257|   G|      A|  29|  PASS|NS=3;DP=14;AF=0.5...|GT:GQ:DP:HQ|0|0:48:1:51,51|1|0:48:8:51,51|1/1:43:5:.,.|\n",
      "|    20|  17330|        .|   T|      A|   3|   q10| NS=3;DP=11;AF=0.017|GT:GQ:DP:HQ|0|0:49:3:58,50|  0|1:3:5:65,3|    0/0:41:3|\n",
      "|    20|1110696|rs6040355|   A|    G,T|  67|  PASS|NS=2;DP=10;AF=0.3...|GT:GQ:DP:HQ|1|2:21:6:23,27|  2|1:2:0:18,2|    2/2:35:4|\n",
      "|    20|1230237|        .|   T|      .|  47|  PASS|     NS=3;DP=13;AA=T|GT:GQ:DP:HQ|0|0:54:7:56,60|0|0:48:4:51,51|    0/0:61:2|\n",
      "|    20|1234567|microsat1|GTCT|G,GTACT|  50|  PASS|      NS=3;DP=9;AA=G|   GT:GQ:DP|      0/1:35:4|      0/2:17:2|    1/1:40:3|\n",
      "+------+-------+---------+----+-------+----+------+--------------------+-----------+--------------+--------------+------------+\n",
      "\n"
     ]
    }
   ],
   "source": [
    "#create df with header \n",
    "vcf = vcf.toDF(schema = vcf.first()) \n",
    "vcf = vcf.filter(vcf[\"#CHROM\"]!=\"#CHROM\")\n",
    "vcf.show()"
   ]
  },
  {
   "cell_type": "code",
   "execution_count": 6,
   "metadata": {},
   "outputs": [
    {
     "name": "stdout",
     "output_type": "stream",
     "text": [
      "root\n",
      " |-- #CHROM: string (nullable = true)\n",
      " |-- POS: integer (nullable = true)\n",
      " |-- ID: string (nullable = true)\n",
      " |-- REF: string (nullable = true)\n",
      " |-- ALT: string (nullable = true)\n",
      " |-- QUAL: string (nullable = true)\n",
      " |-- FILTER: string (nullable = true)\n",
      " |-- INFO: string (nullable = true)\n",
      " |-- FORMAT: string (nullable = true)\n",
      " |-- NA00001: string (nullable = true)\n",
      " |-- NA00002: string (nullable = true)\n",
      " |-- NA00003: string (nullable = true)\n",
      "\n"
     ]
    }
   ],
   "source": [
    "from pyspark.sql.types import *\n",
    "\n",
    "#Make POS integer\n",
    "vcf = vcf.withColumn(\"POS\", vcf[\"POS\"].cast(IntegerType()))\n",
    "vcf.printSchema()"
   ]
  },
  {
   "cell_type": "code",
   "execution_count": 9,
   "metadata": {},
   "outputs": [
    {
     "name": "stdout",
     "output_type": "stream",
     "text": [
      "+----------+-------+\n",
      "|POS_BUCKET|    POS|\n",
      "+----------+-------+\n",
      "|      14.0|  14370|\n",
      "|      17.0|  17330|\n",
      "|    1110.0|1110696|\n",
      "|    1230.0|1230237|\n",
      "|    1234.0|1234567|\n",
      "+----------+-------+\n",
      "\n"
     ]
    }
   ],
   "source": [
    "from pyspark.ml.feature import Bucketizer\n",
    "\n",
    "#define the splits (use min max values from POS argument...) \n",
    "splits = list(range(0, 1334568, 1000))\n",
    "bucketizer = Bucketizer(splits=splits, inputCol=\"POS\", outputCol=\"POS_BUCKET\")\n",
    "\n",
    "# Transform original data into bucket index\n",
    "vcf = bucketizer.transform(vcf)\n",
    "\n",
    "vcf.select(\"POS_BUCKET\", \"POS\").show()"
   ]
  },
  {
   "cell_type": "markdown",
   "metadata": {},
   "source": [
    "### NUMBER OF PLYMORPHIC SITES "
   ]
  },
  {
   "cell_type": "code",
   "execution_count": 10,
   "metadata": {},
   "outputs": [
    {
     "name": "stdout",
     "output_type": "stream",
     "text": [
      "+----------+----------+\n",
      "|POS_BUCKET|count(POS)|\n",
      "+----------+----------+\n",
      "|    1230.0|         1|\n",
      "|    1234.0|         1|\n",
      "|      14.0|         1|\n",
      "|    1110.0|         1|\n",
      "|      17.0|         1|\n",
      "+----------+----------+\n",
      "\n"
     ]
    }
   ],
   "source": [
    "#count number of rows in each bucket \n",
    "vcf_count = vcf.groupby('POS_BUCKET')\\\n",
    "    .agg({'POS': 'count'})\n",
    "\n",
    "vcf_count.show()"
   ]
  },
  {
   "cell_type": "code",
   "execution_count": 49,
   "metadata": {},
   "outputs": [
    {
     "data": {
      "image/png": "[encoded data removed]",
      "text/plain": [
       "<Figure size 432x288 with 1 Axes>"
      ]
     },
     "metadata": {},
     "output_type": "display_data"
    }
   ],
   "source": [
    "import matplotlib.pyplot as plt\n",
    "\n",
    "y = vcf_count.select('count(POS)').collect()\n",
    "x = vcf_count.select('POS_BUCKET').collect()\n",
    "\n",
    "plt.plot(x, y)\n",
    "\n",
    "plt.ylabel('Plymorphic Sites')\n",
    "plt.xlabel('kbp')\n",
    "plt.title('')\n",
    "plt.legend('', loc='upper left')\n",
    "\n",
    "plt.show()"
   ]
  },
  {
   "cell_type": "markdown",
   "metadata": {},
   "source": [
    "### HAPLOTYPE DIVERSITY "
   ]
  },
  {
   "cell_type": "code",
   "execution_count": 41,
   "metadata": {},
   "outputs": [
    {
     "name": "stdout",
     "output_type": "stream",
     "text": [
      "+------+-------+---------+----+-------+----+------+--------------------+-----------+--------------+--------------+------------+\n",
      "|#CHROM|    POS|       ID| REF|    ALT|QUAL|FILTER|                INFO|     FORMAT|       NA00001|       NA00002|     NA00003|\n",
      "+------+-------+---------+----+-------+----+------+--------------------+-----------+--------------+--------------+------------+\n",
      "|    20|  14370|rs6054257|   G|      A|  29|  PASS|NS=3;DP=14;AF=0.5...|GT:GQ:DP:HQ|0|0:48:1:51,51|1|0:48:8:51,51|1/1:43:5:.,.|\n",
      "|    20|  17330|        .|   T|      A|   3|   q10| NS=3;DP=11;AF=0.017|GT:GQ:DP:HQ|0|0:49:3:58,50|  0|1:3:5:65,3|    0/0:41:3|\n",
      "|    20|1110696|rs6040355|   A|    G,T|  67|  PASS|NS=2;DP=10;AF=0.3...|GT:GQ:DP:HQ|1|2:21:6:23,27|  2|1:2:0:18,2|    2/2:35:4|\n",
      "|    20|1230237|        .|   T|      .|  47|  PASS|     NS=3;DP=13;AA=T|GT:GQ:DP:HQ|0|0:54:7:56,60|0|0:48:4:51,51|    0/0:61:2|\n",
      "|    20|1234567|microsat1|GTCT|G,GTACT|  50|  PASS|      NS=3;DP=9;AA=G|   GT:GQ:DP|      0/1:35:4|      0/2:17:2|    1/1:40:3|\n",
      "+------+-------+---------+----+-------+----+------+--------------------+-----------+--------------+--------------+------------+\n",
      "\n"
     ]
    }
   ],
   "source": [
    "#try haplotype diversity instead \n",
    "vcf.show()"
   ]
  },
  {
   "cell_type": "markdown",
   "metadata": {},
   "source": [
    "Calculate haplotype diversity: \n",
    "1. relative frequency of each haplotype: Hf = Hj / N where Hj is number of times haplotype j occurs and N number of individuals/sequences in the dataset  \n",
    "2. haplotype diversity: Hd = N/N-1 * (1 - sum(Hf^2)) (for each haplotype in the window) -> fråga nån som kan matte!!!!\n",
    "\n",
    "todo: \n",
    "1. for rows with more than one alternative allel: split so one allel per row \n",
    "2. transform the genotype values to numeric "
   ]
  },
  {
   "cell_type": "code",
   "execution_count": 80,
   "metadata": {},
   "outputs": [
    {
     "name": "stdout",
     "output_type": "stream",
     "text": [
      "+------+-------+---------+----+-------+----+------+--------------------+-----------+-------+-------+-------+----------+---------+\n",
      "|#CHROM|    POS|       ID| REF|    ALT|QUAL|FILTER|                INFO|     FORMAT|NA00001|NA00002|NA00003|POS_BUCKET|ALT_SPLIT|\n",
      "+------+-------+---------+----+-------+----+------+--------------------+-----------+-------+-------+-------+----------+---------+\n",
      "|    20|  14370|rs6054257|   G|      A|  29|  PASS|NS=3;DP=14;AF=0.5...|GT:GQ:DP:HQ| [0, 0]| [1, 0]| [1, 1]|      14.0|        A|\n",
      "|    20|  17330|        .|   T|      A|   3|   q10| NS=3;DP=11;AF=0.017|GT:GQ:DP:HQ| [0, 0]| [0, 1]| [0, 0]|      17.0|        A|\n",
      "|    20|1110696|rs6040355|   A|    G,T|  67|  PASS|NS=2;DP=10;AF=0.3...|GT:GQ:DP:HQ| [1, 2]| [2, 1]| [2, 2]|    1110.0|        G|\n",
      "|    20|1110696|rs6040355|   A|    G,T|  67|  PASS|NS=2;DP=10;AF=0.3...|GT:GQ:DP:HQ| [1, 2]| [2, 1]| [2, 2]|    1110.0|        T|\n",
      "|    20|1230237|        .|   T|      .|  47|  PASS|     NS=3;DP=13;AA=T|GT:GQ:DP:HQ| [0, 0]| [0, 0]| [0, 0]|    1230.0|        .|\n",
      "|    20|1234567|microsat1|GTCT|G,GTACT|  50|  PASS|      NS=3;DP=9;AA=G|   GT:GQ:DP| [0, 1]| [0, 2]| [1, 1]|    1234.0|        G|\n",
      "|    20|1234567|microsat1|GTCT|G,GTACT|  50|  PASS|      NS=3;DP=9;AA=G|   GT:GQ:DP| [0, 1]| [0, 2]| [1, 1]|    1234.0|    GTACT|\n",
      "+------+-------+---------+----+-------+----+------+--------------------+-----------+-------+-------+-------+----------+---------+\n",
      "\n"
     ]
    }
   ],
   "source": [
    "from pyspark.sql.functions import split, explode\n",
    "\n",
    "#split rows so that ecah row only has one alternative allel in ALT \n",
    "vcf_split = vcf.withColumn('ALT_SPLIT',explode(split('ALT',',')))\n",
    "vcf_split.show()"
   ]
  },
  {
   "cell_type": "code",
   "execution_count": 81,
   "metadata": {},
   "outputs": [
    {
     "name": "stdout",
     "output_type": "stream",
     "text": [
      "+-------+---------+-----------+\n",
      "|    ALT|ALT_SPLIT|INDEX_ALLEL|\n",
      "+-------+---------+-----------+\n",
      "|      A|        A|          1|\n",
      "|      A|        A|          1|\n",
      "|    G,T|        G|          1|\n",
      "|    G,T|        T|          2|\n",
      "|      .|        .|          1|\n",
      "|G,GTACT|        G|          1|\n",
      "|G,GTACT|    GTACT|          2|\n",
      "+-------+---------+-----------+\n",
      "\n"
     ]
    }
   ],
   "source": [
    "from pyspark.sql.types import StringType\n",
    "from pyspark.sql.functions import udf, struct\n",
    "import re \n",
    "\n",
    "def index_allel(ALT, ALT_SPLIT):\n",
    "    res = re.findall('[ATGC.]+', ALT)\n",
    "    regex = re.compile(rf'^{ALT_SPLIT}$')\n",
    "    idx = [i+1 for i, item in enumerate(res) if re.search(regex, item)]\n",
    "    return idx[0]\n",
    "\n",
    "index_allel_udf = udf(index_allel, StringType())\n",
    "\n",
    "vcf_split = vcf_split.withColumn('INDEX_ALLEL', index_allel_udf('ALT', 'ALT_SPLIT'))\n",
    "\n",
    "vcf_split.select('ALT', 'ALT_SPLIT', 'INDEX_ALLEL').show()"
   ]
  },
  {
   "cell_type": "code",
   "execution_count": 82,
   "metadata": {},
   "outputs": [
    {
     "name": "stdout",
     "output_type": "stream",
     "text": [
      "+-------+---------+-----------+-------+-------+-------+\n",
      "|    ALT|ALT_SPLIT|INDEX_ALLEL|NA00001|NA00002|NA00003|\n",
      "+-------+---------+-----------+-------+-------+-------+\n",
      "|      A|        A|          1| [0, 0]| [1, 0]| [1, 1]|\n",
      "|      A|        A|          1| [0, 0]| [0, 1]| [0, 0]|\n",
      "|    G,T|        G|          1| [1, 2]| [2, 1]| [2, 2]|\n",
      "|    G,T|        T|          2| [1, 2]| [2, 1]| [2, 2]|\n",
      "|      .|        .|          1| [0, 0]| [0, 0]| [0, 0]|\n",
      "|G,GTACT|        G|          1| [0, 1]| [0, 2]| [1, 1]|\n",
      "|G,GTACT|    GTACT|          2| [0, 1]| [0, 2]| [1, 1]|\n",
      "+-------+---------+-----------+-------+-------+-------+\n",
      "\n"
     ]
    }
   ],
   "source": [
    "import re \n",
    "from pyspark.sql.functions import udf\n",
    "\n",
    "#Get names of sample columns \n",
    "col = vcf.schema.names\n",
    "col = [x for x in col if re.match(\"NA*\", x)]\n",
    "\n",
    "#function that gets GT (genotype) part of sample information \n",
    "def get_genotypes(sample):\n",
    "    res = sample.split(':')[0]\n",
    "    res = re.findall('[0-9]', res)\n",
    "    return res \n",
    "\n",
    "#udf \n",
    "udf_get_genotypes = udf(get_genotypes, StringType())\n",
    "\n",
    "#loop through samples \n",
    "for sample in col: \n",
    "    vcf_split = vcf_split.withColumn(sample, udf_get_genotypes(sample))\n",
    "    \n",
    "vcf_split.select('ALT', 'ALT_SPLIT', 'INDEX_ALLEL', 'NA00001', 'NA00002', 'NA00003').show()"
   ]
  },
  {
   "cell_type": "code",
   "execution_count": 94,
   "metadata": {},
   "outputs": [
    {
     "name": "stdout",
     "output_type": "stream",
     "text": [
      "+-------+---------+-----------+-------+-------+-------+\n",
      "|    ALT|ALT_SPLIT|INDEX_ALLEL|NA00001|NA00002|NA00003|\n",
      "+-------+---------+-----------+-------+-------+-------+\n",
      "|      A|        A|          1|      0|      1|      2|\n",
      "|      A|        A|          1|      0|      1|      0|\n",
      "|    G,T|        G|          1|      1|      1|      0|\n",
      "|    G,T|        T|          2|      1|      1|      2|\n",
      "|      .|        .|          1|      0|      0|      0|\n",
      "|G,GTACT|        G|          1|      1|      0|      2|\n",
      "|G,GTACT|    GTACT|          2|      0|      1|      0|\n",
      "+-------+---------+-----------+-------+-------+-------+\n",
      "\n"
     ]
    }
   ],
   "source": [
    "#count number of times each allel occurs \n",
    "def count_allel(sample, INDEX_ALLEL):\n",
    "    return sample.count(INDEX_ALLEL)\n",
    "    \n",
    "count_allel_udf = udf(count_allel, StringType())\n",
    "\n",
    "for sample in col:\n",
    "    vcf_split = vcf_split.withColumn(sample, count_allel_udf(sample, 'INDEX_ALLEL'))\n",
    "\n",
    "vcf_split.select('ALT', 'ALT_SPLIT', 'INDEX_ALLEL', 'NA00001', 'NA00002', 'NA00003').show()\n"
   ]
  },
  {
   "cell_type": "code",
   "execution_count": 122,
   "metadata": {},
   "outputs": [
    {
     "name": "stdout",
     "output_type": "stream",
     "text": [
      "+-------------------+\n",
      "|                 Hf|\n",
      "+-------------------+\n",
      "|                0.5|\n",
      "|0.16666666666666666|\n",
      "| 0.3333333333333333|\n",
      "| 0.6666666666666666|\n",
      "|                0.0|\n",
      "|                0.5|\n",
      "|0.16666666666666666|\n",
      "+-------------------+\n",
      "\n"
     ]
    }
   ],
   "source": [
    "#Calculate relative frequency \n",
    "Hf = vcf_split.withColumn('Hf', sum(vcf_split[sample] for sample in col)/(len(col)*2))\n",
    "Hf.select('Hf').show()"
   ]
  },
  {
   "cell_type": "code",
   "execution_count": 123,
   "metadata": {},
   "outputs": [
    {
     "name": "stdout",
     "output_type": "stream",
     "text": [
      "+-------------------+--------------------+\n",
      "|                 Hf|                 Hf2|\n",
      "+-------------------+--------------------+\n",
      "|                0.5|                0.25|\n",
      "|0.16666666666666666|0.027777777777777776|\n",
      "| 0.3333333333333333|  0.1111111111111111|\n",
      "| 0.6666666666666666|  0.4444444444444444|\n",
      "|                0.0|                 0.0|\n",
      "|                0.5|                0.25|\n",
      "|0.16666666666666666|0.027777777777777776|\n",
      "+-------------------+--------------------+\n",
      "\n"
     ]
    }
   ],
   "source": [
    "#Calculate Hf^2\n",
    "Hf = Hf.withColumn('Hf2', Hf['Hf']**2)\n",
    "Hf.select('Hf', 'Hf2').show()"
   ]
  },
  {
   "cell_type": "code",
   "execution_count": 129,
   "metadata": {},
   "outputs": [
    {
     "name": "stdout",
     "output_type": "stream",
     "text": [
      "+----------+--------------------+----------+\n",
      "|POS_BUCKET|            sum(Hf2)|        Hd|\n",
      "+----------+--------------------+----------+\n",
      "|      14.0|                0.25|      0.95|\n",
      "|      17.0|0.027777777777777776| 1.1722223|\n",
      "|    1110.0|  0.5555555555555556|0.64444447|\n",
      "|    1230.0|                 0.0|       1.2|\n",
      "|    1234.0|  0.2777777777777778| 0.9222222|\n",
      "+----------+--------------------+----------+\n",
      "\n"
     ]
    }
   ],
   "source": [
    "from pyspark.sql.types import FloatType\n",
    "\n",
    "#Group by bucket \n",
    "Hd = Hf.groupBy('POS_BUCKET')\\\n",
    "        .agg({'Hf2':'sum'})\\\n",
    "        .orderBy('POS_BUCKET')\n",
    "        \n",
    "def cal_Hd(sum_Hf2):\n",
    "    #fix this not hard coded \n",
    "    N = 6\n",
    "    return (N/(N-1)) * 1 - sum_Hf2\n",
    "\n",
    "cal_hd_udf = udf(cal_Hd, FloatType())\n",
    "\n",
    "Hd = Hd.withColumn('Hd', cal_hd_udf('sum(Hf2)'))\n",
    "Hd.show()"
   ]
  },
  {
   "cell_type": "code",
   "execution_count": 130,
   "metadata": {},
   "outputs": [
    {
     "data": {
      "image/png": "[encoded data removed]",
      "text/plain": [
       "<Figure size 432x288 with 1 Axes>"
      ]
     },
     "metadata": {},
     "output_type": "display_data"
    }
   ],
   "source": [
    "#plot\n",
    "import matplotlib.pyplot as plt\n",
    "\n",
    "y = Hd.select('Hd').collect()\n",
    "x = Hd.select('POS_BUCKET').collect()\n",
    "\n",
    "plt.plot(x, y)\n",
    "\n",
    "plt.ylabel('Haplotype Diversity')\n",
    "plt.xlabel('kbp')\n",
    "plt.title('')\n",
    "plt.legend('', loc='upper left')\n",
    "\n",
    "plt.show()"
   ]
  },
  {
   "cell_type": "code",
   "execution_count": null,
   "metadata": {},
   "outputs": [],
   "source": []
  }
 ],
 "metadata": {
  "kernelspec": {
   "display_name": "Python 3",
   "language": "python",
   "name": "python3"
  },
  "language_info": {
   "codemirror_mode": {
    "name": "ipython",
    "version": 3
   },
   "file_extension": ".py",
   "mimetype": "text/x-python",
   "name": "python",
   "nbconvert_exporter": "python",
   "pygments_lexer": "ipython3",
   "version": "3.6.9"
  }
 },
 "nbformat": 4,
 "nbformat_minor": 2
}
