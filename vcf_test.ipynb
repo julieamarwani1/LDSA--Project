{
 "cells": [
  {
   "cell_type": "code",
   "execution_count": 9,
   "metadata": {},
   "outputs": [],
   "source": [
    "from pyspark.sql import SparkSession\n",
    "\n",
    "#start session \n",
    "spark_session = SparkSession.builder.appName(\"VCF_test\")\\\n",
    ".config (\"spark.sql.shuffle.partitions\", \"50\")\\\n",
    ".config(\"spark.driver.maxResultSize\",\"5g\")\\\n",
    ".config (\"spark.sql.execution.arrow.enabled\", \"true\")\\\n",
    ".getOrCreate()\n",
    "\n",
    "spark_context = spark_session.sparkContext"
   ]
  },
  {
   "cell_type": "code",
   "execution_count": 10,
   "metadata": {},
   "outputs": [
    {
     "data": {
      "text/plain": [
       "['##fileformat=VCFv4.2',\n",
       " '##fileDate=20090805',\n",
       " '##source=myImputationProgramV3.1',\n",
       " '##reference=file:///seq/references/1000GenomesPilot-NCBI36.fasta',\n",
       " '##contig=<ID=20,length=62435964,assembly=B36,md5=f126cdf8a6e0c7f379d618ff66beb2da,species=\"Homo sapiens\",taxonomy=x>',\n",
       " '##phasing=partial',\n",
       " '##INFO=<ID=NS,Number=1,Type=Integer,Description=\"Number of Samples With Data\">',\n",
       " '##INFO=<ID=DP,Number=1,Type=Integer,Description=\"Total Depth\">',\n",
       " '##INFO=<ID=AF,Number=A,Type=Float,Description=\"Allele Frequency\">',\n",
       " '##INFO=<ID=AA,Number=1,Type=String,Description=\"Ancestral Allele\">',\n",
       " '##INFO=<ID=DB,Number=0,Type=Flag,Description=\"dbSNP membership, build 129\">',\n",
       " '##INFO=<ID=H2,Number=0,Type=Flag,Description=\"HapMap2 membership\">',\n",
       " '##FILTER=<ID=q10,Description=\"Quality below 10\">',\n",
       " '##FILTER=<ID=s50,Description=\"Less than 50% of samples have data\">',\n",
       " '##FORMAT=<ID=GT,Number=1,Type=String,Description=\"Genotype\">',\n",
       " '##FORMAT=<ID=GQ,Number=1,Type=Integer,Description=\"Genotype Quality\">',\n",
       " '##FORMAT=<ID=DP,Number=1,Type=Integer,Description=\"Read Depth\">',\n",
       " '##FORMAT=<ID=HQ,Number=2,Type=Integer,Description=\"Haplotype Quality\">',\n",
       " '#CHROM POS ID REF ALT QUAL FILTER INFO FORMAT NA00001 NA00002 NA00003',\n",
       " '20 14370 rs6054257 G A 29 PASS NS=3;DP=14;AF=0.5;DB;H2 GT:GQ:DP:HQ 0|0:48:1:51,51 1|0:48:8:51,51 1/1:43:5:.,.']"
      ]
     },
     "execution_count": 10,
     "metadata": {},
     "output_type": "execute_result"
    }
   ],
   "source": [
    "vcf = spark_context.textFile(\"File:///home/ubuntu/LDSA--Project/test.vcf\")\n",
    "vcf.take(20)"
   ]
  },
  {
   "cell_type": "code",
   "execution_count": 11,
   "metadata": {},
   "outputs": [
    {
     "data": {
      "text/plain": [
       "[['#CHROM',\n",
       "  'POS',\n",
       "  'ID',\n",
       "  'REF',\n",
       "  'ALT',\n",
       "  'QUAL',\n",
       "  'FILTER',\n",
       "  'INFO',\n",
       "  'FORMAT',\n",
       "  'NA00001',\n",
       "  'NA00002',\n",
       "  'NA00003'],\n",
       " ['20',\n",
       "  '14370',\n",
       "  'rs6054257',\n",
       "  'G',\n",
       "  'A',\n",
       "  '29',\n",
       "  'PASS',\n",
       "  'NS=3;DP=14;AF=0.5;DB;H2',\n",
       "  'GT:GQ:DP:HQ',\n",
       "  '0|0:48:1:51,51',\n",
       "  '1|0:48:8:51,51',\n",
       "  '1/1:43:5:.,.'],\n",
       " ['20',\n",
       "  '17330',\n",
       "  '.',\n",
       "  'T',\n",
       "  'A',\n",
       "  '3',\n",
       "  'q10',\n",
       "  'NS=3;DP=11;AF=0.017',\n",
       "  'GT:GQ:DP:HQ',\n",
       "  '0|0:49:3:58,50',\n",
       "  '0|1:3:5:65,3',\n",
       "  '0/0:41:3'],\n",
       " ['20',\n",
       "  '1110696',\n",
       "  'rs6040355',\n",
       "  'A',\n",
       "  'G,T',\n",
       "  '67',\n",
       "  'PASS',\n",
       "  'NS=2;DP=10;AF=0.333,0.667;AA=T;DB',\n",
       "  'GT:GQ:DP:HQ',\n",
       "  '1|2:21:6:23,27',\n",
       "  '2|1:2:0:18,2',\n",
       "  '2/2:35:4'],\n",
       " ['20',\n",
       "  '1230237',\n",
       "  '.',\n",
       "  'T',\n",
       "  '.',\n",
       "  '47',\n",
       "  'PASS',\n",
       "  'NS=3;DP=13;AA=T',\n",
       "  'GT:GQ:DP:HQ',\n",
       "  '0|0:54:7:56,60',\n",
       "  '0|0:48:4:51,51',\n",
       "  '0/0:61:2'],\n",
       " ['20',\n",
       "  '1234567',\n",
       "  'microsat1',\n",
       "  'GTC',\n",
       "  'G,GTCT',\n",
       "  '50',\n",
       "  'PASS',\n",
       "  'NS=3;DP=9;AA=G',\n",
       "  'GT:GQ:DP',\n",
       "  '0/1:35:4',\n",
       "  '0/2:17:2',\n",
       "  '1/1:40:3']]"
      ]
     },
     "execution_count": 11,
     "metadata": {},
     "output_type": "execute_result"
    }
   ],
   "source": [
    "#remove rows that start with ## \n",
    "vcf = vcf.filter(lambda line : not  line.startswith('t=VCF'))\\\n",
    "    .filter(lambda line : not line.startswith('##'))\\\n",
    "    .map(lambda line : line.split())\n",
    "vcf.take(100)"
   ]
  },
  {
   "cell_type": "code",
   "execution_count": 12,
   "metadata": {},
   "outputs": [
    {
     "name": "stdout",
     "output_type": "stream",
     "text": [
      "+------+-------+---------+---+------+----+------+--------------------+-----------+--------------+--------------+------------+\n",
      "|#CHROM|    POS|       ID|REF|   ALT|QUAL|FILTER|                INFO|     FORMAT|       NA00001|       NA00002|     NA00003|\n",
      "+------+-------+---------+---+------+----+------+--------------------+-----------+--------------+--------------+------------+\n",
      "|    20|  14370|rs6054257|  G|     A|  29|  PASS|NS=3;DP=14;AF=0.5...|GT:GQ:DP:HQ|0|0:48:1:51,51|1|0:48:8:51,51|1/1:43:5:.,.|\n",
      "|    20|  17330|        .|  T|     A|   3|   q10| NS=3;DP=11;AF=0.017|GT:GQ:DP:HQ|0|0:49:3:58,50|  0|1:3:5:65,3|    0/0:41:3|\n",
      "|    20|1110696|rs6040355|  A|   G,T|  67|  PASS|NS=2;DP=10;AF=0.3...|GT:GQ:DP:HQ|1|2:21:6:23,27|  2|1:2:0:18,2|    2/2:35:4|\n",
      "|    20|1230237|        .|  T|     .|  47|  PASS|     NS=3;DP=13;AA=T|GT:GQ:DP:HQ|0|0:54:7:56,60|0|0:48:4:51,51|    0/0:61:2|\n",
      "|    20|1234567|microsat1|GTC|G,GTCT|  50|  PASS|      NS=3;DP=9;AA=G|   GT:GQ:DP|      0/1:35:4|      0/2:17:2|    1/1:40:3|\n",
      "+------+-------+---------+---+------+----+------+--------------------+-----------+--------------+--------------+------------+\n",
      "\n"
     ]
    }
   ],
   "source": [
    "#create df with header \n",
    "vcf = vcf.toDF(schema = vcf.first()) \n",
    "vcf = vcf.filter(vcf[\"#CHROM\"]!=\"#CHROM\")\n",
    "vcf.show()"
   ]
  },
  {
   "cell_type": "code",
   "execution_count": 13,
   "metadata": {},
   "outputs": [
    {
     "name": "stdout",
     "output_type": "stream",
     "text": [
      "root\n",
      " |-- #CHROM: string (nullable = true)\n",
      " |-- POS: integer (nullable = true)\n",
      " |-- ID: string (nullable = true)\n",
      " |-- REF: string (nullable = true)\n",
      " |-- ALT: string (nullable = true)\n",
      " |-- QUAL: integer (nullable = true)\n",
      " |-- FILTER: string (nullable = true)\n",
      " |-- INFO: string (nullable = true)\n",
      " |-- FORMAT: string (nullable = true)\n",
      " |-- NA00001: string (nullable = true)\n",
      " |-- NA00002: string (nullable = true)\n",
      " |-- NA00003: string (nullable = true)\n",
      "\n"
     ]
    }
   ],
   "source": [
    "from pyspark.sql.types import *\n",
    "\n",
    "#Make POS and QUAL integer, filter on QUAL \n",
    "vcf = vcf.withColumn(\"POS\", vcf[\"POS\"].cast(IntegerType()))\\\n",
    "        .withColumn('QUAL', vcf['QUAL'].cast(IntegerType()))\\\n",
    "        .filter(vcf['QUAL'] > 20)\n",
    "vcf.printSchema()"
   ]
  },
  {
   "cell_type": "code",
   "execution_count": 15,
   "metadata": {},
   "outputs": [
    {
     "name": "stdout",
     "output_type": "stream",
     "text": [
      "+------+-------+---------+---+------+----+------+--------------------+-----------+--------------+--------------+--------+\n",
      "|#CHROM|    POS|       ID|REF|   ALT|QUAL|FILTER|                INFO|     FORMAT|       NA00001|       NA00002| NA00003|\n",
      "+------+-------+---------+---+------+----+------+--------------------+-----------+--------------+--------------+--------+\n",
      "|    20|1110696|rs6040355|  A|   G,T|  67|  PASS|NS=2;DP=10;AF=0.3...|GT:GQ:DP:HQ|1|2:21:6:23,27|  2|1:2:0:18,2|2/2:35:4|\n",
      "|    20|1230237|        .|  T|     .|  47|  PASS|     NS=3;DP=13;AA=T|GT:GQ:DP:HQ|0|0:54:7:56,60|0|0:48:4:51,51|0/0:61:2|\n",
      "|    20|1234567|microsat1|GTC|G,GTCT|  50|  PASS|      NS=3;DP=9;AA=G|   GT:GQ:DP|      0/1:35:4|      0/2:17:2|1/1:40:3|\n",
      "+------+-------+---------+---+------+----+------+--------------------+-----------+--------------+--------------+--------+\n",
      "\n"
     ]
    }
   ],
   "source": [
    "vcf.sample(False, 0.5, 123).show()"
   ]
  },
  {
   "cell_type": "code",
   "execution_count": 6,
   "metadata": {},
   "outputs": [
    {
     "name": "stdout",
     "output_type": "stream",
     "text": [
      "+-------+------+----+-----------+-------+\n",
      "|    POS|   ALT|QUAL|     FORMAT|NA00001|\n",
      "+-------+------+----+-----------+-------+\n",
      "|  14370|     A|  29|GT:GQ:DP:HQ|    0|0|\n",
      "|1110696|   G,T|  67|GT:GQ:DP:HQ|    1|2|\n",
      "|1230237|     .|  47|GT:GQ:DP:HQ|    0|0|\n",
      "|1234567|G,GTCT|  50|   GT:GQ:DP|    0/1|\n",
      "+-------+------+----+-----------+-------+\n",
      "\n"
     ]
    }
   ],
   "source": [
    "import re \n",
    "from pyspark.sql.functions import col, split\n",
    "\n",
    "#Get names of sample columns \n",
    "columns = vcf.schema.names\n",
    "columns = [x for x in columns if re.match(\"NA*\", x)]\n",
    "\n",
    "for sample in columns: \n",
    "    vcf = vcf.withColumn(sample, split(col(sample), \":\").cast(ArrayType(StringType())).alias(sample)[0])\n",
    "    \n",
    "vcf.select('POS', 'ALT', 'QUAL', 'FORMAT', 'NA00001').show()"
   ]
  },
  {
   "cell_type": "code",
   "execution_count": 7,
   "metadata": {},
   "outputs": [
    {
     "name": "stdout",
     "output_type": "stream",
     "text": [
      "+------+-------+---------+---+------+----+------+--------------------+-----------+-------+-------+-------+\n",
      "|#CHROM|    POS|       ID|REF|   ALT|QUAL|FILTER|                INFO|     FORMAT|NA00001|NA00002|NA00003|\n",
      "+------+-------+---------+---+------+----+------+--------------------+-----------+-------+-------+-------+\n",
      "|    20|  14370|rs6054257|  G|     A|  29|  PASS|NS=3;DP=14;AF=0.5...|GT:GQ:DP:HQ|    0|0|    1|0|    1/1|\n",
      "|    20|1110696|rs6040355|  A|   G,T|  67|  PASS|NS=2;DP=10;AF=0.3...|GT:GQ:DP:HQ|    1|2|    2|1|    2/2|\n",
      "|    20|1230237|        .|  T|     .|  47|  PASS|     NS=3;DP=13;AA=T|GT:GQ:DP:HQ|    0|0|    0|0|    0/0|\n",
      "|    20|1234567|microsat1|GTC|G,GTCT|  50|  PASS|      NS=3;DP=9;AA=G|   GT:GQ:DP|    0/1|    0/2|    1/1|\n",
      "|    20|  14370|rs6054257|  G|     A|  29|  PASS|NS=3;DP=14;AF=0.5...|GT:GQ:DP:HQ|    0|0|    1|0|    1/1|\n",
      "|    20|1110696|rs6040355|  A|   G,T|  67|  PASS|NS=2;DP=10;AF=0.3...|GT:GQ:DP:HQ|    1|2|    2|1|    2/2|\n",
      "|    20|1230237|        .|  T|     .|  47|  PASS|     NS=3;DP=13;AA=T|GT:GQ:DP:HQ|    0|0|    0|0|    0/0|\n",
      "|    20|1234567|microsat1|GTC|G,GTCT|  50|  PASS|      NS=3;DP=9;AA=G|   GT:GQ:DP|    0/1|    0/2|    1/1|\n",
      "+------+-------+---------+---+------+----+------+--------------------+-----------+-------+-------+-------+\n",
      "\n"
     ]
    }
   ],
   "source": [
    "vcf = vcf.union(vcf)\n",
    "vcf.show()"
   ]
  },
  {
   "cell_type": "code",
   "execution_count": 24,
   "metadata": {},
   "outputs": [
    {
     "name": "stdout",
     "output_type": "stream",
     "text": [
      "+------+-------+---------+---+------+----+------+--------------------+-----------+---------+\n",
      "|#CHROM|    POS|       ID|REF|   ALT|QUAL|FILTER|                INFO|     FORMAT|GENOTYPES|\n",
      "+------+-------+---------+---+------+----+------+--------------------+-----------+---------+\n",
      "|    20|  14370|rs6054257|  G|     A|  29|  PASS|NS=3;DP=14;AF=0.5...|GT:GQ:DP:HQ|0|01|01/1|\n",
      "|    20|1110696|rs6040355|  A|   G,T|  67|  PASS|NS=2;DP=10;AF=0.3...|GT:GQ:DP:HQ|1|22|12/2|\n",
      "|    20|1230237|        .|  T|     .|  47|  PASS|     NS=3;DP=13;AA=T|GT:GQ:DP:HQ|0|00|00/0|\n",
      "|    20|1234567|microsat1|GTC|G,GTCT|  50|  PASS|      NS=3;DP=9;AA=G|   GT:GQ:DP|0/10/21/1|\n",
      "+------+-------+---------+---+------+----+------+--------------------+-----------+---------+\n",
      "\n"
     ]
    }
   ],
   "source": [
    "from pyspark.sql.functions import concat\n",
    "import re \n",
    "\n",
    "#Concatenate the genotype columns to one column \n",
    "vcf = vcf.withColumn('GENOTYPES',concat(*columns))\n",
    "\n",
    "#drop the sample columns \n",
    "vcf = vcf.drop(*columns) \n",
    "\n",
    "vcf.show()"
   ]
  },
  {
   "cell_type": "code",
   "execution_count": 37,
   "metadata": {},
   "outputs": [
    {
     "name": "stdout",
     "output_type": "stream",
     "text": [
      "+------+-------+---------+---+------+----+------+--------------------+-----------+---------+-----------+----------+\n",
      "|#CHROM|    POS|       ID|REF|   ALT|QUAL|FILTER|                INFO|     FORMAT|GENOTYPES|ALLEL_COUNT|ALLEL_FREQ|\n",
      "+------+-------+---------+---+------+----+------+--------------------+-----------+---------+-----------+----------+\n",
      "|    20|  14370|rs6054257|  G|     A|  29|  PASS|NS=3;DP=14;AF=0.5...|GT:GQ:DP:HQ|0|01|01/1|     [3, 3]|    [3, 3]|\n",
      "|    20|1110696|rs6040355|  A|   G,T|  67|  PASS|NS=2;DP=10;AF=0.3...|GT:GQ:DP:HQ|1|22|12/2|  [0, 2, 4]| [0, 2, 4]|\n",
      "|    20|1230237|        .|  T|     .|  47|  PASS|     NS=3;DP=13;AA=T|GT:GQ:DP:HQ|0|00|00/0|     [6, 0]|    [6, 0]|\n",
      "|    20|1234567|microsat1|GTC|G,GTCT|  50|  PASS|      NS=3;DP=9;AA=G|   GT:GQ:DP|0/10/21/1|  [2, 3, 1]| [2, 3, 1]|\n",
      "+------+-------+---------+---+------+----+------+--------------------+-----------+---------+-----------+----------+\n",
      "\n"
     ]
    }
   ],
   "source": [
    "from pyspark.sql.types import StringType\n",
    "from pyspark.sql.functions import udf, struct\n",
    "import re \n",
    "\n",
    "def count_allel(GENOTYPES, ALT):\n",
    "    #get number of allels \n",
    "    n = re.findall('[ATGC.]+', ALT)\n",
    "    res = []\n",
    "    for i in range(0,len(n)+1):\n",
    "        res.append(GENOTYPES.count(str(i)))\n",
    "    return res\n",
    "\n",
    "count_allel_udf = udf(count_allel, StringType())\n",
    "\n",
    "vcf = vcf.withColumn('ALLEL_FREQ', count_allel_udf('GENOTYPES', 'ALT'))\n",
    "vcf.show()"
   ]
  },
  {
   "cell_type": "code",
   "execution_count": 47,
   "metadata": {},
   "outputs": [
    {
     "name": "stdout",
     "output_type": "stream",
     "text": [
      "+-------------------+\n",
      "|                 Nd|\n",
      "+-------------------+\n",
      "|                0.4|\n",
      "| 0.4666666666666667|\n",
      "|                1.0|\n",
      "|0.26666666666666666|\n",
      "+-------------------+\n",
      "\n"
     ]
    }
   ],
   "source": [
    "#Calculate Nd\n",
    "def Nd(ALLEL_FREQ):\n",
    "    sqrd = [x**2 for x in ALLEL_FREQ]\n",
    "    diff = [x-y for x, y in zip(sqrd, ALLEL_FREQ)]\n",
    "    return sum(diff)/((sum(ALLEL_FREQ)**2)-sum(ALLEL_FREQ))\n",
    "    \n",
    "Nd_udf = udf(Nd, StringType())\n",
    "\n",
    "vcf = vcf.withColumn('Nd', Nd_udf('ALLEL_FREQ'))\n",
    "vcf.select('Nd').show()  \n"
   ]
  },
  {
   "cell_type": "code",
   "execution_count": null,
   "metadata": {},
   "outputs": [],
   "source": [
    "from pyspark.sql.functions import sum\n",
    "\n",
    "vcf_sum = vcf.withColumn('Nd', 1- vcf_sum['sum(ALLEL_FREQ_SQRD_DIFF)']/((vcf_sum['sum(ALLEL_FREQ)']**2)-vcf_sum['sum(ALLEL_FREQ_SQRD_DIFF)']))\n",
    "    \n",
    "vcf_sum.show()"
   ]
  },
  {
   "cell_type": "code",
   "execution_count": 6,
   "metadata": {},
   "outputs": [
    {
     "name": "stdout",
     "output_type": "stream",
     "text": [
      "+------+-------+---------+---+------+----+------+--------------------+-----------+--------------+--------------+------------+---------+\n",
      "|#CHROM|    POS|       ID|REF|   ALT|QUAL|FILTER|                INFO|     FORMAT|       NA00001|       NA00002|     NA00003|ALT_SPLIT|\n",
      "+------+-------+---------+---+------+----+------+--------------------+-----------+--------------+--------------+------------+---------+\n",
      "|    20|  14370|rs6054257|  G|     A|  29|  PASS|NS=3;DP=14;AF=0.5...|GT:GQ:DP:HQ|0|0:48:1:51,51|1|0:48:8:51,51|1/1:43:5:.,.|        A|\n",
      "|    20|1110696|rs6040355|  A|   G,T|  67|  PASS|NS=2;DP=10;AF=0.3...|GT:GQ:DP:HQ|1|2:21:6:23,27|  2|1:2:0:18,2|    2/2:35:4|        G|\n",
      "|    20|1110696|rs6040355|  A|   G,T|  67|  PASS|NS=2;DP=10;AF=0.3...|GT:GQ:DP:HQ|1|2:21:6:23,27|  2|1:2:0:18,2|    2/2:35:4|        T|\n",
      "|    20|1230237|        .|  T|     .|  47|  PASS|     NS=3;DP=13;AA=T|GT:GQ:DP:HQ|0|0:54:7:56,60|0|0:48:4:51,51|    0/0:61:2|        .|\n",
      "|    20|1234567|microsat1|GTC|G,GTCT|  50|  PASS|      NS=3;DP=9;AA=G|   GT:GQ:DP|      0/1:35:4|      0/2:17:2|    1/1:40:3|        G|\n",
      "|    20|1234567|microsat1|GTC|G,GTCT|  50|  PASS|      NS=3;DP=9;AA=G|   GT:GQ:DP|      0/1:35:4|      0/2:17:2|    1/1:40:3|     GTCT|\n",
      "+------+-------+---------+---+------+----+------+--------------------+-----------+--------------+--------------+------------+---------+\n",
      "\n"
     ]
    }
   ],
   "source": [
    "from pyspark.sql.functions import split, explode\n",
    "\n",
    "#split rows so that ecah row only has one alternative allel in ALT \n",
    "vcf = vcf.withColumn('ALT_SPLIT',explode(split('ALT',',')))\n",
    "vcf.show()"
   ]
  },
  {
   "cell_type": "code",
   "execution_count": 7,
   "metadata": {},
   "outputs": [
    {
     "name": "stdout",
     "output_type": "stream",
     "text": [
      "+-------+-----------+------+---------+----+-----------+--------------+\n",
      "|    POS|INDEX_ALLEL|   ALT|ALT_SPLIT|QUAL|     FORMAT|       NA00001|\n",
      "+-------+-----------+------+---------+----+-----------+--------------+\n",
      "|  14370|          1|     A|        A|  29|GT:GQ:DP:HQ|0|0:48:1:51,51|\n",
      "|1110696|          1|   G,T|        G|  67|GT:GQ:DP:HQ|1|2:21:6:23,27|\n",
      "|1110696|          2|   G,T|        T|  67|GT:GQ:DP:HQ|1|2:21:6:23,27|\n",
      "|1230237|          1|     .|        .|  47|GT:GQ:DP:HQ|0|0:54:7:56,60|\n",
      "|1234567|          1|G,GTCT|        G|  50|   GT:GQ:DP|      0/1:35:4|\n",
      "|1234567|          2|G,GTCT|     GTCT|  50|   GT:GQ:DP|      0/1:35:4|\n",
      "+-------+-----------+------+---------+----+-----------+--------------+\n",
      "\n"
     ]
    }
   ],
   "source": [
    "from pyspark.sql.types import StringType\n",
    "from pyspark.sql.functions import udf, struct\n",
    "import re \n",
    "\n",
    "#Get the index of the allele from ALT_SPLIT and ALT \n",
    "def index_allel(ALT, ALT_SPLIT):\n",
    "    res = re.findall('[ATGC.]+', ALT)\n",
    "    regex = re.compile(rf'^{ALT_SPLIT}$')\n",
    "    idx = [i+1 for i, item in enumerate(res) if re.search(regex, item)]\n",
    "    return idx[0]\n",
    "\n",
    "index_allel_udf = udf(index_allel, StringType())\n",
    "\n",
    "vcf = vcf.withColumn('INDEX_ALLEL', index_allel_udf('ALT', 'ALT_SPLIT'))\n",
    "\n",
    "vcf.select('POS', 'INDEX_ALLEL', 'ALT', 'ALT_SPLIT', 'QUAL', 'FORMAT', 'NA00001').show()"
   ]
  },
  {
   "cell_type": "code",
   "execution_count": 8,
   "metadata": {},
   "outputs": [
    {
     "name": "stdout",
     "output_type": "stream",
     "text": [
      "+-------+-----------+------+---------+----+-----------+-------+\n",
      "|    POS|INDEX_ALLEL|   ALT|ALT_SPLIT|QUAL|     FORMAT|NA00001|\n",
      "+-------+-----------+------+---------+----+-----------+-------+\n",
      "|  14370|          1|     A|        A|  29|GT:GQ:DP:HQ|    0|0|\n",
      "|1110696|          1|   G,T|        G|  67|GT:GQ:DP:HQ|    1|2|\n",
      "|1110696|          2|   G,T|        T|  67|GT:GQ:DP:HQ|    1|2|\n",
      "|1230237|          1|     .|        .|  47|GT:GQ:DP:HQ|    0|0|\n",
      "|1234567|          1|G,GTCT|        G|  50|   GT:GQ:DP|    0/1|\n",
      "|1234567|          2|G,GTCT|     GTCT|  50|   GT:GQ:DP|    0/1|\n",
      "+-------+-----------+------+---------+----+-----------+-------+\n",
      "\n"
     ]
    }
   ],
   "source": [
    "import re \n",
    "from pyspark.sql.functions import col\n",
    "\n",
    "#Get names of sample columns \n",
    "columns = vcf.schema.names\n",
    "columns = [x for x in columns if re.match(\"NA*\", x)]\n",
    "\n",
    "for sample in columns: \n",
    "    vcf = vcf.withColumn(sample, split(col(sample), \":\").cast(ArrayType(StringType())).alias(sample)[0])\n",
    "    \n",
    "vcf.select('POS', 'INDEX_ALLEL', 'ALT', 'ALT_SPLIT', 'QUAL', 'FORMAT', 'NA00001').show()"
   ]
  },
  {
   "cell_type": "code",
   "execution_count": 12,
   "metadata": {},
   "outputs": [
    {
     "name": "stdout",
     "output_type": "stream",
     "text": [
      "+-------+------+---------+-----------+-------+-------+-------+\n",
      "|    POS|   ALT|ALT_SPLIT|INDEX_ALLEL|NA00001|NA00002|NA00003|\n",
      "+-------+------+---------+-----------+-------+-------+-------+\n",
      "|  14370|     A|        A|          1|      0|      1|      0|\n",
      "|1110696|   G,T|        G|          1|      1|      1|      0|\n",
      "|1110696|   G,T|        T|          2|      0|      0|      1|\n",
      "|1230237|     .|        .|          1|      0|      0|      0|\n",
      "|1234567|G,GTCT|        G|          1|      1|      0|      0|\n",
      "|1234567|G,GTCT|     GTCT|          2|      0|      0|      0|\n",
      "+-------+------+---------+-----------+-------+-------+-------+\n",
      "\n"
     ]
    }
   ],
   "source": [
    "#count number of times each allel occurs \n",
    "def count_allel(sample, INDEX_ALLEL):\n",
    "    return sample.count(INDEX_ALLEL)\n",
    "    \n",
    "count_allel_udf = udf(count_allel, StringType())\n",
    "\n",
    "for sample in columns:\n",
    "    vcf = vcf.withColumn(sample, count_allel_udf(sample, 'INDEX_ALLEL'))\n",
    "\n",
    "vcf.select('POS', 'ALT', 'ALT_SPLIT', 'INDEX_ALLEL', 'NA00001', 'NA00002', 'NA00003').show()\n"
   ]
  },
  {
   "cell_type": "code",
   "execution_count": 14,
   "metadata": {},
   "outputs": [
    {
     "name": "stdout",
     "output_type": "stream",
     "text": [
      "root\n",
      " |-- #CHROM: string (nullable = true)\n",
      " |-- POS: integer (nullable = true)\n",
      " |-- ID: string (nullable = true)\n",
      " |-- REF: string (nullable = true)\n",
      " |-- ALT: string (nullable = true)\n",
      " |-- QUAL: integer (nullable = true)\n",
      " |-- FILTER: string (nullable = true)\n",
      " |-- INFO: string (nullable = true)\n",
      " |-- FORMAT: string (nullable = true)\n",
      " |-- NA00001: string (nullable = true)\n",
      " |-- NA00002: string (nullable = true)\n",
      " |-- NA00003: string (nullable = true)\n",
      " |-- ALT_SPLIT: string (nullable = true)\n",
      " |-- INDEX_ALLEL: string (nullable = true)\n",
      " |-- ALLEL_FREQ: double (nullable = true)\n",
      " |-- ALLEL_FREQ_SQRD: double (nullable = true)\n",
      " |-- ALLEL_FREQ_SQRD_DIFF: double (nullable = true)\n",
      "\n",
      "+-------+----------+---------------+--------------------+\n",
      "|    POS|ALLEL_FREQ|ALLEL_FREQ_SQRD|ALLEL_FREQ_SQRD_DIFF|\n",
      "+-------+----------+---------------+--------------------+\n",
      "|  14370|       1.0|            1.0|                 0.0|\n",
      "|1110696|       2.0|            4.0|                -2.0|\n",
      "|1110696|       1.0|            1.0|                 0.0|\n",
      "|1230237|       0.0|            0.0|                 0.0|\n",
      "|1234567|       1.0|            1.0|                 0.0|\n",
      "|1234567|       0.0|            0.0|                 0.0|\n",
      "+-------+----------+---------------+--------------------+\n",
      "\n"
     ]
    }
   ],
   "source": [
    "from pyspark.sql.functions import pow, col\n",
    "import re \n",
    "\n",
    "#Calculate frequency and frequency squared \n",
    "vcf = vcf.withColumn('ALLEL_FREQ', sum(vcf[sample] for sample in columns))\\\n",
    "         .withColumn('ALLEL_FREQ_SQRD', pow(col(\"ALLEL_FREQ\"), 2))\n",
    "\n",
    "#Calculate frequency minus frequency squared \n",
    "vcf = vcf.withColumn('ALLEL_FREQ_SQRD_DIFF', (vcf[\"ALLEL_FREQ\"]-vcf[\"ALLEL_FREQ_SQRD\"]))\n",
    "\n",
    "#vcf = vcf.drop('ALLEL_FREQ', 'ALLEL_FREQ_SQRD', 'ALLEL_FREQ_SQRD_DIFF', 'test')\n",
    "vcf.printSchema()\n",
    "vcf.select('POS', 'ALLEL_FREQ', 'ALLEL_FREQ_SQRD', 'ALLEL_FREQ_SQRD_DIFF').show()"
   ]
  },
  {
   "cell_type": "code",
   "execution_count": 15,
   "metadata": {},
   "outputs": [
    {
     "name": "stdout",
     "output_type": "stream",
     "text": [
      "+-------+---------------+-------------------------+------------------+\n",
      "|    POS|sum(ALLEL_FREQ)|sum(ALLEL_FREQ_SQRD_DIFF)|                Nd|\n",
      "+-------+---------------+-------------------------+------------------+\n",
      "|1234567|            1.0|                      0.0|               1.0|\n",
      "|1230237|            0.0|                      0.0|              null|\n",
      "|1110696|            3.0|                     -2.0|1.1818181818181819|\n",
      "|  14370|            1.0|                      0.0|               1.0|\n",
      "+-------+---------------+-------------------------+------------------+\n",
      "\n"
     ]
    }
   ],
   "source": [
    "from pyspark.sql.functions import sum\n",
    "\n",
    "vcf_sum = vcf.groupBy('POS')\\\n",
    "            .agg(sum(\"ALLEL_FREQ\"), sum('ALLEL_FREQ_SQRD_DIFF'))\n",
    "\n",
    "vcf_sum = vcf_sum.withColumn('Nd', 1- vcf_sum['sum(ALLEL_FREQ_SQRD_DIFF)']/((vcf_sum['sum(ALLEL_FREQ)']**2)-vcf_sum['sum(ALLEL_FREQ_SQRD_DIFF)']))\n",
    "    \n",
    "vcf_sum.show()"
   ]
  },
  {
   "cell_type": "code",
   "execution_count": 16,
   "metadata": {},
   "outputs": [
    {
     "name": "stdout",
     "output_type": "stream",
     "text": [
      "+-------+---------------+-------------------------+------------------+----------+\n",
      "|    POS|sum(ALLEL_FREQ)|sum(ALLEL_FREQ_SQRD_DIFF)|                Nd|POS_BUCKET|\n",
      "+-------+---------------+-------------------------+------------------+----------+\n",
      "|1234567|            1.0|                      0.0|               1.0|    1234.0|\n",
      "|1230237|            0.0|                      0.0|              null|    1230.0|\n",
      "|1110696|            3.0|                     -2.0|1.1818181818181819|    1110.0|\n",
      "|  14370|            1.0|                      0.0|               1.0|      14.0|\n",
      "+-------+---------------+-------------------------+------------------+----------+\n",
      "\n"
     ]
    }
   ],
   "source": [
    "from pyspark.ml.feature import Bucketizer\n",
    "\n",
    "#define the splits (use min max values from POS argument...) \n",
    "splits = list(range(0, 57227415, 1000))\n",
    "bucketizer = Bucketizer(splits=splits, inputCol=\"POS\", outputCol=\"POS_BUCKET\")\n",
    "\n",
    "#Transform original data into bucket index\n",
    "vcf_sum = bucketizer.transform(vcf_sum)\n",
    "\n",
    "vcf_sum.show()"
   ]
  },
  {
   "cell_type": "code",
   "execution_count": 17,
   "metadata": {},
   "outputs": [
    {
     "name": "stdout",
     "output_type": "stream",
     "text": [
      "+----------+------------------+--------------------+\n",
      "|POS_BUCKET|           sum(Nd)|               Nd/bp|\n",
      "+----------+------------------+--------------------+\n",
      "|      14.0|               1.0|               0.001|\n",
      "|    1110.0|1.1818181818181819|0.001181818181818...|\n",
      "|    1230.0|              null|                null|\n",
      "|    1234.0|               1.0|               0.001|\n",
      "+----------+------------------+--------------------+\n",
      "\n"
     ]
    }
   ],
   "source": [
    "#Calculate nucleotide diversity per baspair \n",
    "vcf_sum = vcf_sum.groupBy('POS_BUCKET')\\\n",
    "                .agg(sum('Nd'))\\\n",
    "                .orderBy('POS_BUCKET')\n",
    "                \n",
    "vcf_sum = vcf_sum.withColumn('Nd/bp', vcf_sum['sum(Nd)']/1000)\n",
    "\n",
    "vcf_sum.show()"
   ]
  },
  {
   "cell_type": "code",
   "execution_count": 19,
   "metadata": {},
   "outputs": [
    {
     "data": {
      "image/png": "[encoded data removed]",
      "text/plain": [
       "<Figure size 432x288 with 1 Axes>"
      ]
     },
     "metadata": {},
     "output_type": "display_data"
    }
   ],
   "source": [
    "#plot\n",
    "import matplotlib.pyplot as plt\n",
    "\n",
    "y = vcf_sum.select('Nd/bp').collect()\n",
    "x = vcf_sum.select('POS_BUCKET').collect()\n",
    "\n",
    "plt.plot(x, y)\n",
    "\n",
    "plt.ylabel('Nucleotide Diversity')\n",
    "plt.xlabel('kbp')\n",
    "plt.title('')\n",
    "plt.legend('', loc='upper left')\n",
    "\n",
    "plt.show()"
   ]
  },
  {
   "cell_type": "code",
   "execution_count": 20,
   "metadata": {},
   "outputs": [],
   "source": [
    "spark_context.stop()"
   ]
  },
  {
   "cell_type": "markdown",
   "metadata": {},
   "source": [
    "### NUMBER OF PLYMORPHIC SITES "
   ]
  },
  {
   "cell_type": "code",
   "execution_count": 7,
   "metadata": {},
   "outputs": [
    {
     "name": "stdout",
     "output_type": "stream",
     "text": [
      "+----------+----------+\n",
      "|POS_BUCKET|count(POS)|\n",
      "+----------+----------+\n",
      "|    1230.0|         1|\n",
      "|    1234.0|         1|\n",
      "|      14.0|         1|\n",
      "|    1110.0|         1|\n",
      "|      17.0|         1|\n",
      "+----------+----------+\n",
      "\n"
     ]
    }
   ],
   "source": [
    "#count number of rows in each bucket \n",
    "vcf_count = vcf.groupby('POS_BUCKET')\\\n",
    "    .agg({'POS': 'count'})\n",
    "\n",
    "vcf_count.show()"
   ]
  },
  {
   "cell_type": "code",
   "execution_count": 8,
   "metadata": {},
   "outputs": [
    {
     "data": {
      "text/plain": [
       "<Figure size 640x480 with 1 Axes>"
      ]
     },
     "metadata": {},
     "output_type": "display_data"
    }
   ],
   "source": [
    "import matplotlib.pyplot as plt\n",
    "\n",
    "y = vcf_count.select('count(POS)').collect()\n",
    "x = vcf_count.select('POS_BUCKET').collect()\n",
    "\n",
    "plt.plot(x, y)\n",
    "\n",
    "plt.ylabel('Plymorphic Sites')\n",
    "plt.xlabel('kbp')\n",
    "plt.title('')\n",
    "plt.legend('', loc='upper left')\n",
    "\n",
    "plt.show()"
   ]
  },
  {
   "cell_type": "markdown",
   "metadata": {},
   "source": [
    "# NUCLEOTIDE DIVERSITY "
   ]
  },
  {
   "cell_type": "code",
   "execution_count": 9,
   "metadata": {},
   "outputs": [
    {
     "name": "stdout",
     "output_type": "stream",
     "text": [
      "+------+-------+---------+---+------+----+------+--------------------+-----------+--------------+--------------+------------+----------+\n",
      "|#CHROM|    POS|       ID|REF|   ALT|QUAL|FILTER|                INFO|     FORMAT|       NA00001|       NA00002|     NA00003|POS_BUCKET|\n",
      "+------+-------+---------+---+------+----+------+--------------------+-----------+--------------+--------------+------------+----------+\n",
      "|    20|  14370|rs6054257|  G|     A|  29|  PASS|NS=3;DP=14;AF=0.5...|GT:GQ:DP:HQ|0|0:48:1:51,51|1|0:48:8:51,51|1/1:43:5:.,.|      14.0|\n",
      "|    20|  17330|        .|  T|     A|   3|   q10| NS=3;DP=11;AF=0.017|GT:GQ:DP:HQ|0|0:49:3:58,50|  0|1:3:5:65,3|    0/0:41:3|      17.0|\n",
      "|    20|1110696|rs6040355|  A|   G,T|  67|  PASS|NS=2;DP=10;AF=0.3...|GT:GQ:DP:HQ|1|2:21:6:23,27|  2|1:2:0:18,2|    2/2:35:4|    1110.0|\n",
      "|    20|1230237|        .|  T|     .|  47|  PASS|     NS=3;DP=13;AA=T|GT:GQ:DP:HQ|0|0:54:7:56,60|0|0:48:4:51,51|    0/0:61:2|    1230.0|\n",
      "|    20|1234567|microsat1|GTC|G,GTCT|  50|  PASS|      NS=3;DP=9;AA=G|   GT:GQ:DP|      0/1:35:4|      0/2:17:2|    1/1:40:3|    1234.0|\n",
      "+------+-------+---------+---+------+----+------+--------------------+-----------+--------------+--------------+------------+----------+\n",
      "\n"
     ]
    }
   ],
   "source": [
    "#try haplotype diversity instead \n",
    "vcf.show()"
   ]
  },
  {
   "cell_type": "markdown",
   "metadata": {},
   "source": [
    "Calculate haplotype diversity: \n",
    "1. relative frequency of each haplotype: Hf = Hj / N where Hj is number of times haplotype j occurs and N number of individuals/sequences in the dataset  \n",
    "2. haplotype diversity: Hd = N/N-1 * (1 - sum(Hf^2)) (for each haplotype in the window) -> fråga nån som kan matte!!!!\n",
    "\n",
    "todo: \n",
    "1. for rows with more than one alternative allel: split so one allel per row \n",
    "2. transform the genotype values to numeric "
   ]
  },
  {
   "cell_type": "code",
   "execution_count": 10,
   "metadata": {
    "scrolled": true
   },
   "outputs": [
    {
     "name": "stdout",
     "output_type": "stream",
     "text": [
      "+------+-------+---------+---+------+----+------+--------------------+-----------+--------------+--------------+------------+----------+---------+\n",
      "|#CHROM|    POS|       ID|REF|   ALT|QUAL|FILTER|                INFO|     FORMAT|       NA00001|       NA00002|     NA00003|POS_BUCKET|ALT_SPLIT|\n",
      "+------+-------+---------+---+------+----+------+--------------------+-----------+--------------+--------------+------------+----------+---------+\n",
      "|    20|  14370|rs6054257|  G|     A|  29|  PASS|NS=3;DP=14;AF=0.5...|GT:GQ:DP:HQ|0|0:48:1:51,51|1|0:48:8:51,51|1/1:43:5:.,.|      14.0|        A|\n",
      "|    20|  17330|        .|  T|     A|   3|   q10| NS=3;DP=11;AF=0.017|GT:GQ:DP:HQ|0|0:49:3:58,50|  0|1:3:5:65,3|    0/0:41:3|      17.0|        A|\n",
      "|    20|1110696|rs6040355|  A|   G,T|  67|  PASS|NS=2;DP=10;AF=0.3...|GT:GQ:DP:HQ|1|2:21:6:23,27|  2|1:2:0:18,2|    2/2:35:4|    1110.0|        G|\n",
      "|    20|1110696|rs6040355|  A|   G,T|  67|  PASS|NS=2;DP=10;AF=0.3...|GT:GQ:DP:HQ|1|2:21:6:23,27|  2|1:2:0:18,2|    2/2:35:4|    1110.0|        T|\n",
      "|    20|1230237|        .|  T|     .|  47|  PASS|     NS=3;DP=13;AA=T|GT:GQ:DP:HQ|0|0:54:7:56,60|0|0:48:4:51,51|    0/0:61:2|    1230.0|        .|\n",
      "|    20|1234567|microsat1|GTC|G,GTCT|  50|  PASS|      NS=3;DP=9;AA=G|   GT:GQ:DP|      0/1:35:4|      0/2:17:2|    1/1:40:3|    1234.0|        G|\n",
      "|    20|1234567|microsat1|GTC|G,GTCT|  50|  PASS|      NS=3;DP=9;AA=G|   GT:GQ:DP|      0/1:35:4|      0/2:17:2|    1/1:40:3|    1234.0|     GTCT|\n",
      "+------+-------+---------+---+------+----+------+--------------------+-----------+--------------+--------------+------------+----------+---------+\n",
      "\n"
     ]
    }
   ],
   "source": [
    "from pyspark.sql.functions import split, explode\n",
    "\n",
    "#split rows so that ecah row only has one alternative allel in ALT \n",
    "vcf_split = vcf.withColumn('ALT_SPLIT',explode(split('ALT',',')))\n",
    "vcf_split.show()"
   ]
  },
  {
   "cell_type": "code",
   "execution_count": 11,
   "metadata": {},
   "outputs": [
    {
     "name": "stdout",
     "output_type": "stream",
     "text": [
      "+------+---------+-----------+\n",
      "|   ALT|ALT_SPLIT|INDEX_ALLEL|\n",
      "+------+---------+-----------+\n",
      "|     A|        A|          1|\n",
      "|     A|        A|          1|\n",
      "|   G,T|        G|          1|\n",
      "|   G,T|        T|          2|\n",
      "|     .|        .|          1|\n",
      "|G,GTCT|        G|          1|\n",
      "|G,GTCT|     GTCT|          2|\n",
      "+------+---------+-----------+\n",
      "\n"
     ]
    }
   ],
   "source": [
    "from pyspark.sql.types import StringType\n",
    "from pyspark.sql.functions import udf, struct\n",
    "import re \n",
    "\n",
    "def index_allel(ALT, ALT_SPLIT):\n",
    "    res = re.findall('[ATGC.]+', ALT)\n",
    "    regex = re.compile(rf'^{ALT_SPLIT}$')\n",
    "    idx = [i+1 for i, item in enumerate(res) if re.search(regex, item)]\n",
    "    return idx[0]\n",
    "\n",
    "index_allel_udf = udf(index_allel, StringType())\n",
    "\n",
    "vcf_split = vcf_split.withColumn('INDEX_ALLEL', index_allel_udf('ALT', 'ALT_SPLIT'))\n",
    "\n",
    "vcf_split.select('ALT', 'ALT_SPLIT', 'INDEX_ALLEL').show()"
   ]
  },
  {
   "cell_type": "code",
   "execution_count": 12,
   "metadata": {},
   "outputs": [
    {
     "name": "stdout",
     "output_type": "stream",
     "text": [
      "+------+---------+-----------+-------+-------+-------+\n",
      "|   ALT|ALT_SPLIT|INDEX_ALLEL|NA00001|NA00002|NA00003|\n",
      "+------+---------+-----------+-------+-------+-------+\n",
      "|     A|        A|          1| [0, 0]| [1, 0]| [1, 1]|\n",
      "|     A|        A|          1| [0, 0]| [0, 1]| [0, 0]|\n",
      "|   G,T|        G|          1| [1, 2]| [2, 1]| [2, 2]|\n",
      "|   G,T|        T|          2| [1, 2]| [2, 1]| [2, 2]|\n",
      "|     .|        .|          1| [0, 0]| [0, 0]| [0, 0]|\n",
      "|G,GTCT|        G|          1| [0, 1]| [0, 2]| [1, 1]|\n",
      "|G,GTCT|     GTCT|          2| [0, 1]| [0, 2]| [1, 1]|\n",
      "+------+---------+-----------+-------+-------+-------+\n",
      "\n"
     ]
    }
   ],
   "source": [
    "import re \n",
    "from pyspark.sql.functions import udf\n",
    "\n",
    "#Get names of sample columns \n",
    "columns = vcf.schema.names\n",
    "columns = [x for x in columns if re.match(\"NA*\", x)]\n",
    "\n",
    "#function that gets GT (genotype) part of sample information \n",
    "def get_genotypes(sample):\n",
    "    res = sample.split(':')[0]\n",
    "    res = re.findall('[0-9]', res)\n",
    "    return res \n",
    "\n",
    "#udf \n",
    "udf_get_genotypes = udf(get_genotypes, StringType())\n",
    "\n",
    "#loop through samples \n",
    "for sample in columns: \n",
    "    vcf_split = vcf_split.withColumn(sample, udf_get_genotypes(sample))\n",
    "    \n",
    "vcf_split.select('ALT', 'ALT_SPLIT', 'INDEX_ALLEL', 'NA00001', 'NA00002', 'NA00003').show()\n"
   ]
  },
  {
   "cell_type": "code",
   "execution_count": 13,
   "metadata": {},
   "outputs": [
    {
     "name": "stdout",
     "output_type": "stream",
     "text": [
      "+-------+------+---------+-----------+-------+-------+-------+\n",
      "|    POS|   ALT|ALT_SPLIT|INDEX_ALLEL|NA00001|NA00002|NA00003|\n",
      "+-------+------+---------+-----------+-------+-------+-------+\n",
      "|  14370|     A|        A|          1|      0|      1|      2|\n",
      "|  17330|     A|        A|          1|      0|      1|      0|\n",
      "|1110696|   G,T|        G|          1|      1|      1|      0|\n",
      "|1110696|   G,T|        T|          2|      1|      1|      2|\n",
      "|1230237|     .|        .|          1|      0|      0|      0|\n",
      "|1234567|G,GTCT|        G|          1|      1|      0|      2|\n",
      "|1234567|G,GTCT|     GTCT|          2|      0|      1|      0|\n",
      "+-------+------+---------+-----------+-------+-------+-------+\n",
      "\n"
     ]
    }
   ],
   "source": [
    "#count number of times each allel occurs \n",
    "def count_allel(sample, INDEX_ALLEL):\n",
    "    return sample.count(INDEX_ALLEL)\n",
    "    \n",
    "count_allel_udf = udf(count_allel, StringType())\n",
    "\n",
    "for sample in columns:\n",
    "    vcf_split = vcf_split.withColumn(sample, count_allel_udf(sample, 'INDEX_ALLEL'))\n",
    "\n",
    "vcf_split.select('POS', 'ALT', 'ALT_SPLIT', 'INDEX_ALLEL', 'NA00001', 'NA00002', 'NA00003').show()\n"
   ]
  },
  {
   "cell_type": "code",
   "execution_count": 22,
   "metadata": {},
   "outputs": [
    {
     "name": "stdout",
     "output_type": "stream",
     "text": [
      "+-------+----------+---------------+--------------------+\n",
      "|    POS|ALLEL_FREQ|ALLEL_FREQ_SQRD|ALLEL_FREQ_SQRD_DIFF|\n",
      "+-------+----------+---------------+--------------------+\n",
      "|  14370|       3.0|            9.0|                -6.0|\n",
      "|  17330|       1.0|            1.0|                 0.0|\n",
      "|1110696|       2.0|            4.0|                -2.0|\n",
      "|1110696|       4.0|           16.0|               -12.0|\n",
      "|1230237|       0.0|            0.0|                 0.0|\n",
      "|1234567|       3.0|            9.0|                -6.0|\n",
      "|1234567|       1.0|            1.0|                 0.0|\n",
      "+-------+----------+---------------+--------------------+\n",
      "\n"
     ]
    }
   ],
   "source": [
    "from pyspark.sql.functions import pow, col\n",
    "\n",
    "#Calculate frequency and \n",
    "vcf_freq = vcf_split.withColumn('ALLEL_FREQ', sum(vcf_split[sample] for sample in columns))\\\n",
    "                    .withColumn('ALLEL_FREQ_SQRD', pow(col(\"ALLEL_FREQ\"), 2).alias(\"ALLEL_FREQ_SQRD\"))\n",
    "                    \n",
    "vcf_freq = vcf_freq.withColumn('ALLEL_FREQ_SQRD_DIFF', (vcf_freq[\"ALLEL_FREQ\"]-vcf_freq[\"ALLEL_FREQ_SQRD\"]))\n",
    "\n",
    "vcf_freq.select('POS', 'ALLEL_FREQ', 'ALLEL_FREQ_SQRD', 'ALLEL_FREQ_SQRD_DIFF').show()"
   ]
  },
  {
   "cell_type": "code",
   "execution_count": 34,
   "metadata": {},
   "outputs": [
    {
     "name": "stdout",
     "output_type": "stream",
     "text": [
      "+-------+---------------+-------------------------+\n",
      "|    POS|sum(ALLEL_FREQ)|sum(ALLEL_FREQ_SQRD_DIFF)|\n",
      "+-------+---------------+-------------------------+\n",
      "|  17330|            1.0|                      0.0|\n",
      "|1234567|            4.0|                     -6.0|\n",
      "|1230237|            0.0|                      0.0|\n",
      "|1110696|            6.0|                    -14.0|\n",
      "|  14370|            3.0|                     -6.0|\n",
      "+-------+---------------+-------------------------+\n",
      "\n"
     ]
    }
   ],
   "source": [
    "from pyspark.sql.functions import sum\n",
    "\n",
    "vcf_sum = vcf_freq.groupBy('POS')\\\n",
    "            .agg(sum(\"ALLEL_FREQ\"), sum('ALLEL_FREQ_SQRD_DIFF'))\n",
    "    \n",
    "vcf_sum.show()"
   ]
  },
  {
   "cell_type": "code",
   "execution_count": 35,
   "metadata": {},
   "outputs": [
    {
     "name": "stdout",
     "output_type": "stream",
     "text": [
      "+-------+---------------+-------------------------+------------------+\n",
      "|    POS|sum(ALLEL_FREQ)|sum(ALLEL_FREQ_SQRD_DIFF)|                Nd|\n",
      "+-------+---------------+-------------------------+------------------+\n",
      "|  17330|            1.0|                      0.0|               1.0|\n",
      "|1234567|            4.0|                     -6.0|1.2727272727272727|\n",
      "|1230237|            0.0|                      0.0|              null|\n",
      "|1110696|            6.0|                    -14.0|              1.28|\n",
      "|  14370|            3.0|                     -6.0|               1.4|\n",
      "+-------+---------------+-------------------------+------------------+\n",
      "\n"
     ]
    }
   ],
   "source": [
    "vcf_sum = vcf_sum.withColumn('Nd', 1- vcf_sum['sum(ALLEL_FREQ_SQRD_DIFF)']/((vcf_sum['sum(ALLEL_FREQ)']**2)-vcf_sum['sum(ALLEL_FREQ_SQRD_DIFF)']))\n",
    "vcf_sum.show()"
   ]
  },
  {
   "cell_type": "code",
   "execution_count": 36,
   "metadata": {},
   "outputs": [
    {
     "name": "stdout",
     "output_type": "stream",
     "text": [
      "+-------+---------------+-------------------------+------------------+----------+\n",
      "|    POS|sum(ALLEL_FREQ)|sum(ALLEL_FREQ_SQRD_DIFF)|                Nd|POS_BUCKET|\n",
      "+-------+---------------+-------------------------+------------------+----------+\n",
      "|  17330|            1.0|                      0.0|               1.0|      17.0|\n",
      "|1234567|            4.0|                     -6.0|1.2727272727272727|    1234.0|\n",
      "|1230237|            0.0|                      0.0|              null|    1230.0|\n",
      "|1110696|            6.0|                    -14.0|              1.28|    1110.0|\n",
      "|  14370|            3.0|                     -6.0|               1.4|      14.0|\n",
      "+-------+---------------+-------------------------+------------------+----------+\n",
      "\n"
     ]
    }
   ],
   "source": [
    "from pyspark.ml.feature import Bucketizer\n",
    "\n",
    "#define the splits (use min max values from POS argument...) \n",
    "splits = list(range(0, 1334568, 1000))\n",
    "bucketizer = Bucketizer(splits=splits, inputCol=\"POS\", outputCol=\"POS_BUCKET\")\n",
    "\n",
    "# Transform original data into bucket index\n",
    "vcf_sum = bucketizer.transform(vcf_sum)\n",
    "\n",
    "vcf_sum.show()"
   ]
  },
  {
   "cell_type": "code",
   "execution_count": 37,
   "metadata": {},
   "outputs": [
    {
     "name": "stdout",
     "output_type": "stream",
     "text": [
      "+----------+------------------+--------------------+\n",
      "|POS_BUCKET|           sum(Nd)|               Nd/bp|\n",
      "+----------+------------------+--------------------+\n",
      "|      14.0|               1.4|              0.0014|\n",
      "|      17.0|               1.0|               0.001|\n",
      "|    1110.0|              1.28|             0.00128|\n",
      "|    1230.0|              null|                null|\n",
      "|    1234.0|1.2727272727272727|0.001272727272727...|\n",
      "+----------+------------------+--------------------+\n",
      "\n"
     ]
    }
   ],
   "source": [
    "vcf_sum = vcf_sum.groupBy('POS_BUCKET')\\\n",
    "                .agg(sum('Nd'))\\\n",
    "                .orderBy('POS_BUCKET')\n",
    "                \n",
    "vcf_sum = vcf_sum.withColumn('Nd/bp', vcf_sum['sum(Nd)']/1000)\n",
    "\n",
    "vcf_sum.show()\n",
    "                        "
   ]
  },
  {
   "cell_type": "code",
   "execution_count": 38,
   "metadata": {},
   "outputs": [
    {
     "data": {
      "image/png": "[encoded data removed]",
      "text/plain": [
       "<Figure size 432x288 with 1 Axes>"
      ]
     },
     "metadata": {},
     "output_type": "display_data"
    }
   ],
   "source": [
    "#plot\n",
    "import matplotlib.pyplot as plt\n",
    "\n",
    "y = vcf_sum.select('Nd/bp').collect()\n",
    "x = vcf_sum.select('POS_BUCKET').collect()\n",
    "\n",
    "plt.plot(x, y)\n",
    "\n",
    "plt.ylabel('Nucleotide Diversity')\n",
    "plt.xlabel('kbp')\n",
    "plt.title('')\n",
    "plt.legend('', loc='upper left')\n",
    "\n",
    "plt.show()"
   ]
  },
  {
   "cell_type": "code",
   "execution_count": 129,
   "metadata": {},
   "outputs": [
    {
     "name": "stdout",
     "output_type": "stream",
     "text": [
      "+----------+--------------------+----------+\n",
      "|POS_BUCKET|            sum(Hf2)|        Hd|\n",
      "+----------+--------------------+----------+\n",
      "|      14.0|                0.25|      0.95|\n",
      "|      17.0|0.027777777777777776| 1.1722223|\n",
      "|    1110.0|  0.5555555555555556|0.64444447|\n",
      "|    1230.0|                 0.0|       1.2|\n",
      "|    1234.0|  0.2777777777777778| 0.9222222|\n",
      "+----------+--------------------+----------+\n",
      "\n"
     ]
    }
   ],
   "source": [
    "from pyspark.sql.types import FloatType\n",
    "\n",
    "#Group by bucket \n",
    "Hd = Hf.groupBy('POS_BUCKET')\\\n",
    "        .agg({'Hf2':'sum'})\\\n",
    "        .orderBy('POS_BUCKET')\n",
    "        \n",
    "def cal_Hd(sum_Hf2):\n",
    "    #fix this not hard coded \n",
    "    N = 6\n",
    "    return (N/(N-1)) * 1 - sum_Hf2\n",
    "\n",
    "cal_hd_udf = udf(cal_Hd, FloatType())\n",
    "\n",
    "Hd = Hd.withColumn('Hd', cal_hd_udf('sum(Hf2)'))\n",
    "Hd.show()"
   ]
  },
  {
   "cell_type": "code",
   "execution_count": 130,
   "metadata": {},
   "outputs": [
    {
     "data": {
      "image/png": "[encoded data removed]",
      "text/plain": [
       "<Figure size 432x288 with 1 Axes>"
      ]
     },
     "metadata": {},
     "output_type": "display_data"
    }
   ],
   "source": [
    "#plot\n",
    "import matplotlib.pyplot as plt\n",
    "\n",
    "y = Hd.select('Hd').collect()\n",
    "x = Hd.select('POS_BUCKET').collect()\n",
    "\n",
    "plt.plot(x, y)\n",
    "\n",
    "plt.ylabel('Haplotype Diversity')\n",
    "plt.xlabel('kbp')\n",
    "plt.title('')\n",
    "plt.legend('', loc='upper left')\n",
    "\n",
    "plt.show()"
   ]
  },
  {
   "cell_type": "markdown",
   "metadata": {},
   "source": [
    "# NUCLEOTIDE DIVERSITY "
   ]
  },
  {
   "cell_type": "code",
   "execution_count": 382,
   "metadata": {},
   "outputs": [
    {
     "name": "stdout",
     "output_type": "stream",
     "text": [
      "+---+------+-------+-------+-------+\n",
      "|REF|   ALT|NA00001|NA00002|NA00003|\n",
      "+---+------+-------+-------+-------+\n",
      "|  G|     A| [0, 0]| [1, 0]| [1, 1]|\n",
      "|  T|     A| [0, 0]| [0, 1]| [0, 0]|\n",
      "|  A|   G,T| [1, 2]| [2, 1]| [2, 2]|\n",
      "|  T|     .| [0, 0]| [0, 0]| [0, 0]|\n",
      "|GTC|G,GTCT| [0, 1]| [0, 2]| [1, 1]|\n",
      "+---+------+-------+-------+-------+\n",
      "\n",
      "root\n",
      " |-- #CHROM: string (nullable = true)\n",
      " |-- POS: integer (nullable = true)\n",
      " |-- ID: string (nullable = true)\n",
      " |-- REF: string (nullable = true)\n",
      " |-- ALT: string (nullable = true)\n",
      " |-- QUAL: string (nullable = true)\n",
      " |-- FILTER: string (nullable = true)\n",
      " |-- INFO: string (nullable = true)\n",
      " |-- FORMAT: string (nullable = true)\n",
      " |-- NA00001: array (nullable = true)\n",
      " |    |-- element: string (containsNull = true)\n",
      " |-- NA00002: array (nullable = true)\n",
      " |    |-- element: string (containsNull = true)\n",
      " |-- NA00003: array (nullable = true)\n",
      " |    |-- element: string (containsNull = true)\n",
      " |-- POS_BUCKET: double (nullable = true)\n",
      "\n"
     ]
    }
   ],
   "source": [
    "import re \n",
    "from pyspark.sql.functions import udf\n",
    "\n",
    "#Get names of sample columns \n",
    "columns = vcf.schema.names\n",
    "columns = [x for x in columns if re.match(\"NA*\", x)]\n",
    "\n",
    "#loop through samples and get array of genotype information\n",
    "for sample in columns: \n",
    "    vcf = vcf.withColumn(sample, split(col(sample), \":\").cast(ArrayType(StringType())).alias(sample)[0])\\\n",
    "            .withColumn(sample, split(col(sample), \"[|/]\").cast(ArrayType(StringType())).alias(sample))\n",
    "    \n",
    "vcf.select('REF', 'ALT', 'NA00001', 'NA00002', 'NA00003').show()\n",
    "vcf.printSchema()"
   ]
  },
  {
   "cell_type": "code",
   "execution_count": 304,
   "metadata": {},
   "outputs": [
    {
     "name": "stdout",
     "output_type": "stream",
     "text": [
      "+---+------+--------------+-------+-------+-------+\n",
      "|REF|   ALT|    ALLELS_TOT|NA00001|NA00002|NA00003|\n",
      "+---+------+--------------+-------+-------+-------+\n",
      "|  G|     A|        [G, A]| [0, 0]| [1, 0]| [1, 1]|\n",
      "|  T|     A|        [T, A]| [0, 0]| [0, 1]| [0, 0]|\n",
      "|  A|   G,T|     [A, G, T]| [1, 2]| [2, 1]| [2, 2]|\n",
      "|  T|     .|        [T, .]| [0, 0]| [0, 0]| [0, 0]|\n",
      "|GTC|G,GTCT|[GTC, G, GTCT]| [0, 1]| [0, 2]| [1, 1]|\n",
      "+---+------+--------------+-------+-------+-------+\n",
      "\n"
     ]
    }
   ],
   "source": [
    "from pyspark.sql.types import *\n",
    "from pyspark.sql.functions import udf, struct\n",
    "import re \n",
    "\n",
    "def split_allel(ALT, REF):\n",
    "    res = ALT.split(',')\n",
    "    res.insert(0, REF)\n",
    "    return res\n",
    "\n",
    "index_allel_udf = udf(split_allel, StringType())\n",
    "\n",
    "vcf = vcf.withColumn('ALLELS_TOT', index_allel_udf('ALT', 'REF'))\n",
    "\n",
    "vcf.select('REF', 'ALT', 'ALLELS_TOT', 'NA00001', 'NA00002', 'NA00003').show()"
   ]
  },
  {
   "cell_type": "code",
   "execution_count": 305,
   "metadata": {},
   "outputs": [
    {
     "name": "stdout",
     "output_type": "stream",
     "text": [
      "+---+------+--------------+-------+-------+-------+\n",
      "|REF|   ALT|    ALLELS_TOT|NA00001|NA00002|NA00003|\n",
      "+---+------+--------------+-------+-------+-------+\n",
      "|  G|     A|        [G, A]|   null|   null|   null|\n",
      "|  T|     A|        [T, A]|   null|   null|   null|\n",
      "|  A|   G,T|     [A, G, T]|   null|   null|   null|\n",
      "|  T|     .|        [T, .]|   null|   null|   null|\n",
      "|GTC|G,GTCT|[GTC, G, GTCT]|   null|   null|   null|\n",
      "+---+------+--------------+-------+-------+-------+\n",
      "\n",
      "root\n",
      " |-- #CHROM: string (nullable = true)\n",
      " |-- POS: integer (nullable = true)\n",
      " |-- ID: string (nullable = true)\n",
      " |-- REF: string (nullable = true)\n",
      " |-- ALT: string (nullable = true)\n",
      " |-- QUAL: string (nullable = true)\n",
      " |-- FILTER: string (nullable = true)\n",
      " |-- INFO: string (nullable = true)\n",
      " |-- FORMAT: string (nullable = true)\n",
      " |-- NA00001: integer (nullable = true)\n",
      " |-- NA00002: integer (nullable = true)\n",
      " |-- NA00003: integer (nullable = true)\n",
      " |-- POS_BUCKET: double (nullable = true)\n",
      " |-- ALLELS_TOT: string (nullable = true)\n",
      "\n"
     ]
    }
   ],
   "source": [
    "#count number of times each allel occurs \n",
    "def count_allel(sample, ALLELS_TOT):\n",
    "    allel_count = []\n",
    "    ALLELS_TOT = re.findall('[ATCG.]+', ALLELS_TOT)\n",
    "    for index, allel in enumerate(ALLELS_TOT):\n",
    "        allel_count.append(sample.count(index))\n",
    "    \n",
    "    return allel_count  \n",
    "    \n",
    "count_allel_udf = udf(count_allel, IntegerType())\n",
    "vcf_count = vcf\n",
    "\n",
    "for sample in columns:\n",
    "    vcf_count = vcf_count.withColumn(sample, count_allel_udf(sample, 'ALLELS_TOT'))\n",
    "\n",
    "vcf_count.select('REF', 'ALT', 'ALLELS_TOT', 'NA00001', 'NA00002', 'NA00003').show()\n",
    "vcf_count.printSchema()"
   ]
  },
  {
   "cell_type": "code",
   "execution_count": 285,
   "metadata": {},
   "outputs": [
    {
     "name": "stdout",
     "output_type": "stream",
     "text": [
      "+----+\n",
      "|  Pf|\n",
      "+----+\n",
      "|null|\n",
      "|null|\n",
      "|null|\n",
      "|null|\n",
      "|null|\n",
      "+----+\n",
      "\n"
     ]
    }
   ],
   "source": [
    "#frequency of each allel in each polymorfic site \n",
    "Pf = vcf_count.withColumn('Pf', sum(vcf_count[sample] for sampel in columns)) \n",
    "Pf.select('Pf').show()"
   ]
  },
  {
   "cell_type": "code",
   "execution_count": 206,
   "metadata": {},
   "outputs": [
    {
     "name": "stdout",
     "output_type": "stream",
     "text": [
      "root\n",
      " |-- #CHROM: string (nullable = true)\n",
      " |-- POS: integer (nullable = true)\n",
      " |-- ID: string (nullable = true)\n",
      " |-- REF: string (nullable = true)\n",
      " |-- ALT: string (nullable = true)\n",
      " |-- QUAL: string (nullable = true)\n",
      " |-- FILTER: string (nullable = true)\n",
      " |-- INFO: string (nullable = true)\n",
      " |-- FORMAT: string (nullable = true)\n",
      " |-- NA00001: array (nullable = true)\n",
      " |    |-- element: integer (containsNull = true)\n",
      " |-- NA00002: string (nullable = true)\n",
      " |-- NA00003: string (nullable = true)\n",
      " |-- POS_BUCKET: double (nullable = true)\n",
      " |-- ALLELS_TOT: string (nullable = true)\n",
      "\n"
     ]
    }
   ],
   "source": [
    "df.printSchema()"
   ]
  },
  {
   "cell_type": "code",
   "execution_count": null,
   "metadata": {},
   "outputs": [],
   "source": []
  },
  {
   "cell_type": "code",
   "execution_count": 250,
   "metadata": {},
   "outputs": [
    {
     "name": "stdout",
     "output_type": "stream",
     "text": [
      "+------+-------+---------+---+------+----+------+--------------------+-----------+--------------+--------------+------------+----------+\n",
      "|#CHROM|    POS|       ID|REF|   ALT|QUAL|FILTER|                INFO|     FORMAT|       NA00001|       NA00002|     NA00003|POS_BUCKET|\n",
      "+------+-------+---------+---+------+----+------+--------------------+-----------+--------------+--------------+------------+----------+\n",
      "|    20|  14370|rs6054257|  G|     A|  29|  PASS|NS=3;DP=14;AF=0.5...|GT:GQ:DP:HQ|0|0:48:1:51,51|1|0:48:8:51,51|1/1:43:5:.,.|      14.0|\n",
      "|    20|  17330|        .|  T|     A|   3|   q10| NS=3;DP=11;AF=0.017|GT:GQ:DP:HQ|0|0:49:3:58,50|  0|1:3:5:65,3|    0/0:41:3|      17.0|\n",
      "|    20|1110696|rs6040355|  A|   G,T|  67|  PASS|NS=2;DP=10;AF=0.3...|GT:GQ:DP:HQ|1|2:21:6:23,27|  2|1:2:0:18,2|    2/2:35:4|    1110.0|\n",
      "|    20|1230237|        .|  T|     .|  47|  PASS|     NS=3;DP=13;AA=T|GT:GQ:DP:HQ|0|0:54:7:56,60|0|0:48:4:51,51|    0/0:61:2|    1230.0|\n",
      "|    20|1234567|microsat1|GTC|G,GTCT|  50|  PASS|      NS=3;DP=9;AA=G|   GT:GQ:DP|      0/1:35:4|      0/2:17:2|    1/1:40:3|    1234.0|\n",
      "+------+-------+---------+---+------+----+------+--------------------+-----------+--------------+--------------+------------+----------+\n",
      "\n"
     ]
    }
   ],
   "source": [
    "vcf.show()"
   ]
  },
  {
   "cell_type": "code",
   "execution_count": 398,
   "metadata": {},
   "outputs": [
    {
     "name": "stdout",
     "output_type": "stream",
     "text": [
      "['NA00001', 'NA00002', 'NA00003']\n"
     ]
    }
   ],
   "source": [
    "print(columns)"
   ]
  },
  {
   "cell_type": "code",
   "execution_count": 18,
   "metadata": {},
   "outputs": [],
   "source": [
    "spark_context.stop()"
   ]
  },
  {
   "cell_type": "code",
   "execution_count": 30,
   "metadata": {},
   "outputs": [
    {
     "data": {
      "text/plain": [
       "[0, 1, 2]"
      ]
     },
     "execution_count": 30,
     "metadata": {},
     "output_type": "execute_result"
    }
   ],
   "source": [
    "res = re.findall('[ATGC.]+', 'A,C')\n",
    "list(range(0,len(res)+1))"
   ]
  },
  {
   "cell_type": "code",
   "execution_count": 33,
   "metadata": {},
   "outputs": [
    {
     "data": {
      "text/plain": [
       "[2, 2, 2]"
      ]
     },
     "execution_count": 33,
     "metadata": {},
     "output_type": "execute_result"
    }
   ],
   "source": [
    "def count_allel(GENOTYPES, ALT):\n",
    "    #get number of allels \n",
    "    n = re.findall('[ATGC.]+', ALT)\n",
    "    res = []\n",
    "    for i in range(0,len(n)+1):\n",
    "        res.append(GENOTYPES.count(str(i)))\n",
    "    return res\n",
    "\n",
    "count_allel('0|01|12|2', 'A,C')"
   ]
  },
  {
   "cell_type": "code",
   "execution_count": 45,
   "metadata": {},
   "outputs": [
    {
     "data": {
      "text/plain": [
       "4"
      ]
     },
     "execution_count": 45,
     "metadata": {},
     "output_type": "execute_result"
    }
   ],
   "source": [
    "x = [2, 2]\n",
    "y = [y**2 for y in x]\n",
    "z = [y-x for x, y in zip(x,y)]\n",
    "sum(z)"
   ]
  },
  {
   "cell_type": "code",
   "execution_count": 8,
   "metadata": {},
   "outputs": [],
   "source": [
    "spark_context.stop()"
   ]
  },
  {
   "cell_type": "code",
   "execution_count": null,
   "metadata": {},
   "outputs": [],
   "source": []
  }
 ],
 "metadata": {
  "kernelspec": {
   "display_name": "Python 3",
   "language": "python",
   "name": "python3"
  },
  "language_info": {
   "codemirror_mode": {
    "name": "ipython",
    "version": 3
   },
   "file_extension": ".py",
   "mimetype": "text/x-python",
   "name": "python",
   "nbconvert_exporter": "python",
   "pygments_lexer": "ipython3",
   "version": "3.6.9"
  }
 },
 "nbformat": 4,
 "nbformat_minor": 2
}
